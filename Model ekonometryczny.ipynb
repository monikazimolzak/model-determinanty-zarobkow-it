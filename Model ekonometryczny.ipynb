{
 "cells": [
  {
   "cell_type": "markdown",
   "id": "e46a5267",
   "metadata": {},
   "source": [
    "Wczytanie i obróbka bazy danych:"
   ]
  },
  {
   "cell_type": "code",
   "execution_count": 1,
   "id": "5bd081c5",
   "metadata": {},
   "outputs": [],
   "source": [
    "import pandas as pd"
   ]
  },
  {
   "cell_type": "code",
   "execution_count": 3,
   "id": "f2384940",
   "metadata": {},
   "outputs": [],
   "source": [
    "df = pd.read_csv('ITsalary.csv', sep = ';')"
   ]
  },
  {
   "cell_type": "code",
   "execution_count": 4,
   "id": "3f7f1014",
   "metadata": {},
   "outputs": [
    {
     "data": {
      "text/html": [
       "<div>\n",
       "<style scoped>\n",
       "    .dataframe tbody tr th:only-of-type {\n",
       "        vertical-align: middle;\n",
       "    }\n",
       "\n",
       "    .dataframe tbody tr th {\n",
       "        vertical-align: top;\n",
       "    }\n",
       "\n",
       "    .dataframe thead th {\n",
       "        text-align: right;\n",
       "    }\n",
       "</style>\n",
       "<table border=\"1\" class=\"dataframe\">\n",
       "  <thead>\n",
       "    <tr style=\"text-align: right;\">\n",
       "      <th></th>\n",
       "      <th>Date</th>\n",
       "      <th>Age</th>\n",
       "      <th>Gender</th>\n",
       "      <th>Position</th>\n",
       "      <th>Experience</th>\n",
       "      <th>Seniority_level</th>\n",
       "      <th>Programming_language</th>\n",
       "      <th>Salary</th>\n",
       "      <th>Vacation_days</th>\n",
       "      <th>Employment_status</th>\n",
       "      <th>Contract_duration</th>\n",
       "      <th>Language</th>\n",
       "      <th>Company_size</th>\n",
       "    </tr>\n",
       "  </thead>\n",
       "  <tbody>\n",
       "    <tr>\n",
       "      <th>0</th>\n",
       "      <td>24.11.2020 11:14</td>\n",
       "      <td>26</td>\n",
       "      <td>Male</td>\n",
       "      <td>Software Engineer</td>\n",
       "      <td>5</td>\n",
       "      <td>Senior</td>\n",
       "      <td>TypeScript</td>\n",
       "      <td>80000</td>\n",
       "      <td>30</td>\n",
       "      <td>Full-time employee</td>\n",
       "      <td>Unlimited contract</td>\n",
       "      <td>English</td>\n",
       "      <td>medium-size</td>\n",
       "    </tr>\n",
       "    <tr>\n",
       "      <th>1</th>\n",
       "      <td>24.11.2020 11:14</td>\n",
       "      <td>26</td>\n",
       "      <td>Male</td>\n",
       "      <td>Backend Developer</td>\n",
       "      <td>7</td>\n",
       "      <td>Senior</td>\n",
       "      <td>Ruby</td>\n",
       "      <td>80000</td>\n",
       "      <td>28</td>\n",
       "      <td>Full-time employee</td>\n",
       "      <td>Unlimited contract</td>\n",
       "      <td>English</td>\n",
       "      <td>large</td>\n",
       "    </tr>\n",
       "    <tr>\n",
       "      <th>2</th>\n",
       "      <td>24.11.2020 11:14</td>\n",
       "      <td>29</td>\n",
       "      <td>Male</td>\n",
       "      <td>Software Engineer</td>\n",
       "      <td>12</td>\n",
       "      <td>Lead</td>\n",
       "      <td>Javascript / Typescript</td>\n",
       "      <td>120000</td>\n",
       "      <td>30</td>\n",
       "      <td>Self-employed (freelancer)</td>\n",
       "      <td>Temporary contract</td>\n",
       "      <td>English</td>\n",
       "      <td>large</td>\n",
       "    </tr>\n",
       "    <tr>\n",
       "      <th>3</th>\n",
       "      <td>24.11.2020 11:15</td>\n",
       "      <td>28</td>\n",
       "      <td>Male</td>\n",
       "      <td>Frontend Developer</td>\n",
       "      <td>4</td>\n",
       "      <td>Junior</td>\n",
       "      <td>Javascript</td>\n",
       "      <td>54000</td>\n",
       "      <td>24</td>\n",
       "      <td>Full-time employee</td>\n",
       "      <td>Unlimited contract</td>\n",
       "      <td>English</td>\n",
       "      <td>medium-size</td>\n",
       "    </tr>\n",
       "    <tr>\n",
       "      <th>4</th>\n",
       "      <td>24.11.2020 11:15</td>\n",
       "      <td>37</td>\n",
       "      <td>Male</td>\n",
       "      <td>Backend Developer</td>\n",
       "      <td>17</td>\n",
       "      <td>Senior</td>\n",
       "      <td>C# .NET</td>\n",
       "      <td>62000</td>\n",
       "      <td>29</td>\n",
       "      <td>Full-time employee</td>\n",
       "      <td>Unlimited contract</td>\n",
       "      <td>English</td>\n",
       "      <td>large</td>\n",
       "    </tr>\n",
       "  </tbody>\n",
       "</table>\n",
       "</div>"
      ],
      "text/plain": [
       "               Date  Age Gender           Position   Experience  \\\n",
       "0  24.11.2020 11:14   26   Male   Software Engineer           5   \n",
       "1  24.11.2020 11:14   26   Male   Backend Developer           7   \n",
       "2  24.11.2020 11:14   29   Male   Software Engineer          12   \n",
       "3  24.11.2020 11:15   28   Male  Frontend Developer           4   \n",
       "4  24.11.2020 11:15   37   Male   Backend Developer          17   \n",
       "\n",
       "  Seniority_level     Programming_language  Salary  Vacation_days  \\\n",
       "0          Senior               TypeScript   80000             30   \n",
       "1          Senior                     Ruby   80000             28   \n",
       "2            Lead  Javascript / Typescript  120000             30   \n",
       "3          Junior               Javascript   54000             24   \n",
       "4          Senior                  C# .NET   62000             29   \n",
       "\n",
       "            Employment_status   Contract_duration Language Company_size  \n",
       "0          Full-time employee  Unlimited contract  English  medium-size  \n",
       "1          Full-time employee  Unlimited contract  English        large  \n",
       "2  Self-employed (freelancer)  Temporary contract  English        large  \n",
       "3          Full-time employee  Unlimited contract  English  medium-size  \n",
       "4          Full-time employee  Unlimited contract  English        large  "
      ]
     },
     "execution_count": 4,
     "metadata": {},
     "output_type": "execute_result"
    }
   ],
   "source": [
    "df.head()"
   ]
  },
  {
   "cell_type": "markdown",
   "id": "3325e2b3",
   "metadata": {},
   "source": [
    "Unikatowe wartości dla zmiennych dyskretnych:"
   ]
  },
  {
   "cell_type": "code",
   "execution_count": 5,
   "id": "c8068f51",
   "metadata": {},
   "outputs": [
    {
     "name": "stdout",
     "output_type": "stream",
     "text": [
      "        count          %\n",
      "Senior    503  47.097378\n",
      "Middle    319  29.868914\n",
      "Lead      148  13.857678\n",
      "Junior     61   5.711610\n",
      "Head       37   3.464419\n"
     ]
    }
   ],
   "source": [
    "df1=pd.DataFrame()\n",
    "a='Seniority_level'\n",
    "df1['count']=df[a].value_counts()\n",
    "df1['%']=df[a].value_counts()/df[a].count()*100\n",
    "print(df1)"
   ]
  },
  {
   "cell_type": "code",
   "execution_count": 6,
   "id": "3e9367ab",
   "metadata": {},
   "outputs": [
    {
     "name": "stdout",
     "output_type": "stream",
     "text": [
      "                            count          %\n",
      "Full-time employee           1046  97.940075\n",
      "Self-employed (freelancer)     18   1.685393\n",
      "Part-time employee              4   0.374532\n"
     ]
    }
   ],
   "source": [
    "df2=pd.DataFrame()\n",
    "a='Employment_status'\n",
    "df2['count']=df[a].value_counts()\n",
    "df2['%']=df[a].value_counts()/df[a].count()*100\n",
    "print(df2)"
   ]
  },
  {
   "cell_type": "code",
   "execution_count": 7,
   "id": "43ab09ed",
   "metadata": {},
   "outputs": [
    {
     "name": "stdout",
     "output_type": "stream",
     "text": [
      "                    count          %\n",
      "Unlimited contract   1020  95.505618\n",
      "Temporary contract     48   4.494382\n"
     ]
    }
   ],
   "source": [
    "df3=pd.DataFrame()\n",
    "a='Contract_duration'\n",
    "df3['count']=df[a].value_counts()\n",
    "df3['%']=df[a].value_counts()/df[a].count()*100\n",
    "print(df3)"
   ]
  },
  {
   "cell_type": "code",
   "execution_count": 8,
   "id": "1258c0ad",
   "metadata": {},
   "outputs": [
    {
     "name": "stdout",
     "output_type": "stream",
     "text": [
      "         count          %\n",
      "English    895  83.801498\n",
      "German     160  14.981273\n",
      "Russian     10   0.936330\n",
      "Italian      3   0.280899\n"
     ]
    }
   ],
   "source": [
    "df4=pd.DataFrame()\n",
    "a='Language'\n",
    "df4['count']=df[a].value_counts()\n",
    "df4['%']=df[a].value_counts()/df[a].count()*100\n",
    "print(df4)"
   ]
  },
  {
   "cell_type": "code",
   "execution_count": 9,
   "id": "92ff208f",
   "metadata": {},
   "outputs": [
    {
     "name": "stdout",
     "output_type": "stream",
     "text": [
      "             count          %\n",
      "extra-large    388  36.329588\n",
      "large          362  33.895131\n",
      "small          149  13.951311\n",
      "medium-size    126  11.797753\n",
      "micro           43   4.026217\n"
     ]
    }
   ],
   "source": [
    "df5=pd.DataFrame()\n",
    "a='Company_size'\n",
    "df5['count']=df[a].value_counts()\n",
    "df5['%']=df[a].value_counts()/df[a].count()*100\n",
    "print(df5)"
   ]
  },
  {
   "cell_type": "markdown",
   "id": "1a8698b8",
   "metadata": {},
   "source": [
    "Rozkodowanie zmiennych:"
   ]
  },
  {
   "cell_type": "code",
   "execution_count": 10,
   "id": "89d74e99",
   "metadata": {},
   "outputs": [],
   "source": [
    "df['Gender'] = (df['Gender'] == 'Male').astype(int)"
   ]
  },
  {
   "cell_type": "code",
   "execution_count": 11,
   "id": "67456633",
   "metadata": {},
   "outputs": [],
   "source": [
    "df['Contract_duration'] = (df['Contract_duration'] == 'Unlimited contract').astype(int)"
   ]
  },
  {
   "cell_type": "code",
   "execution_count": 12,
   "id": "bd7c544c",
   "metadata": {},
   "outputs": [],
   "source": [
    "df['Employment_status']=df['Employment_status'].replace(['Part-time employee','Self-employed (freelancer)'],'Other')\n",
    "df['Employment_status'] = (df['Employment_status'] == 'Full-time employee').astype(int)"
   ]
  },
  {
   "cell_type": "code",
   "execution_count": 13,
   "id": "5ae721a2",
   "metadata": {},
   "outputs": [],
   "source": [
    "df=pd.get_dummies(df,columns=['Seniority_level'], prefix='Seniority_level', drop_first=True)"
   ]
  },
  {
   "cell_type": "code",
   "execution_count": 14,
   "id": "32e0c6ce",
   "metadata": {},
   "outputs": [],
   "source": [
    "df=pd.get_dummies(df,columns=['Company_size'], prefix='Company_size', drop_first=True)"
   ]
  },
  {
   "cell_type": "code",
   "execution_count": 15,
   "id": "861d5758",
   "metadata": {},
   "outputs": [],
   "source": [
    "df=pd.get_dummies(df,columns=['Language'], prefix='Language', drop_first=True)"
   ]
  },
  {
   "cell_type": "code",
   "execution_count": 16,
   "id": "1271b0f9",
   "metadata": {},
   "outputs": [
    {
     "data": {
      "text/html": [
       "<div>\n",
       "<style scoped>\n",
       "    .dataframe tbody tr th:only-of-type {\n",
       "        vertical-align: middle;\n",
       "    }\n",
       "\n",
       "    .dataframe tbody tr th {\n",
       "        vertical-align: top;\n",
       "    }\n",
       "\n",
       "    .dataframe thead th {\n",
       "        text-align: right;\n",
       "    }\n",
       "</style>\n",
       "<table border=\"1\" class=\"dataframe\">\n",
       "  <thead>\n",
       "    <tr style=\"text-align: right;\">\n",
       "      <th></th>\n",
       "      <th>Date</th>\n",
       "      <th>Age</th>\n",
       "      <th>Gender</th>\n",
       "      <th>Position</th>\n",
       "      <th>Experience</th>\n",
       "      <th>Programming_language</th>\n",
       "      <th>Salary</th>\n",
       "      <th>Vacation_days</th>\n",
       "      <th>Employment_status</th>\n",
       "      <th>Contract_duration</th>\n",
       "      <th>...</th>\n",
       "      <th>Seniority_level_Lead</th>\n",
       "      <th>Seniority_level_Middle</th>\n",
       "      <th>Seniority_level_Senior</th>\n",
       "      <th>Company_size_large</th>\n",
       "      <th>Company_size_medium-size</th>\n",
       "      <th>Company_size_micro</th>\n",
       "      <th>Company_size_small</th>\n",
       "      <th>Language_German</th>\n",
       "      <th>Language_Italian</th>\n",
       "      <th>Language_Russian</th>\n",
       "    </tr>\n",
       "  </thead>\n",
       "  <tbody>\n",
       "    <tr>\n",
       "      <th>0</th>\n",
       "      <td>24.11.2020 11:14</td>\n",
       "      <td>26</td>\n",
       "      <td>1</td>\n",
       "      <td>Software Engineer</td>\n",
       "      <td>5</td>\n",
       "      <td>TypeScript</td>\n",
       "      <td>80000</td>\n",
       "      <td>30</td>\n",
       "      <td>1</td>\n",
       "      <td>1</td>\n",
       "      <td>...</td>\n",
       "      <td>0</td>\n",
       "      <td>0</td>\n",
       "      <td>1</td>\n",
       "      <td>0</td>\n",
       "      <td>1</td>\n",
       "      <td>0</td>\n",
       "      <td>0</td>\n",
       "      <td>0</td>\n",
       "      <td>0</td>\n",
       "      <td>0</td>\n",
       "    </tr>\n",
       "    <tr>\n",
       "      <th>1</th>\n",
       "      <td>24.11.2020 11:14</td>\n",
       "      <td>26</td>\n",
       "      <td>1</td>\n",
       "      <td>Backend Developer</td>\n",
       "      <td>7</td>\n",
       "      <td>Ruby</td>\n",
       "      <td>80000</td>\n",
       "      <td>28</td>\n",
       "      <td>1</td>\n",
       "      <td>1</td>\n",
       "      <td>...</td>\n",
       "      <td>0</td>\n",
       "      <td>0</td>\n",
       "      <td>1</td>\n",
       "      <td>1</td>\n",
       "      <td>0</td>\n",
       "      <td>0</td>\n",
       "      <td>0</td>\n",
       "      <td>0</td>\n",
       "      <td>0</td>\n",
       "      <td>0</td>\n",
       "    </tr>\n",
       "    <tr>\n",
       "      <th>2</th>\n",
       "      <td>24.11.2020 11:14</td>\n",
       "      <td>29</td>\n",
       "      <td>1</td>\n",
       "      <td>Software Engineer</td>\n",
       "      <td>12</td>\n",
       "      <td>Javascript / Typescript</td>\n",
       "      <td>120000</td>\n",
       "      <td>30</td>\n",
       "      <td>0</td>\n",
       "      <td>0</td>\n",
       "      <td>...</td>\n",
       "      <td>1</td>\n",
       "      <td>0</td>\n",
       "      <td>0</td>\n",
       "      <td>1</td>\n",
       "      <td>0</td>\n",
       "      <td>0</td>\n",
       "      <td>0</td>\n",
       "      <td>0</td>\n",
       "      <td>0</td>\n",
       "      <td>0</td>\n",
       "    </tr>\n",
       "    <tr>\n",
       "      <th>3</th>\n",
       "      <td>24.11.2020 11:15</td>\n",
       "      <td>28</td>\n",
       "      <td>1</td>\n",
       "      <td>Frontend Developer</td>\n",
       "      <td>4</td>\n",
       "      <td>Javascript</td>\n",
       "      <td>54000</td>\n",
       "      <td>24</td>\n",
       "      <td>1</td>\n",
       "      <td>1</td>\n",
       "      <td>...</td>\n",
       "      <td>0</td>\n",
       "      <td>0</td>\n",
       "      <td>0</td>\n",
       "      <td>0</td>\n",
       "      <td>1</td>\n",
       "      <td>0</td>\n",
       "      <td>0</td>\n",
       "      <td>0</td>\n",
       "      <td>0</td>\n",
       "      <td>0</td>\n",
       "    </tr>\n",
       "    <tr>\n",
       "      <th>4</th>\n",
       "      <td>24.11.2020 11:15</td>\n",
       "      <td>37</td>\n",
       "      <td>1</td>\n",
       "      <td>Backend Developer</td>\n",
       "      <td>17</td>\n",
       "      <td>C# .NET</td>\n",
       "      <td>62000</td>\n",
       "      <td>29</td>\n",
       "      <td>1</td>\n",
       "      <td>1</td>\n",
       "      <td>...</td>\n",
       "      <td>0</td>\n",
       "      <td>0</td>\n",
       "      <td>1</td>\n",
       "      <td>1</td>\n",
       "      <td>0</td>\n",
       "      <td>0</td>\n",
       "      <td>0</td>\n",
       "      <td>0</td>\n",
       "      <td>0</td>\n",
       "      <td>0</td>\n",
       "    </tr>\n",
       "  </tbody>\n",
       "</table>\n",
       "<p>5 rows × 21 columns</p>\n",
       "</div>"
      ],
      "text/plain": [
       "               Date  Age  Gender           Position   Experience  \\\n",
       "0  24.11.2020 11:14   26       1   Software Engineer           5   \n",
       "1  24.11.2020 11:14   26       1   Backend Developer           7   \n",
       "2  24.11.2020 11:14   29       1   Software Engineer          12   \n",
       "3  24.11.2020 11:15   28       1  Frontend Developer           4   \n",
       "4  24.11.2020 11:15   37       1   Backend Developer          17   \n",
       "\n",
       "      Programming_language  Salary  Vacation_days  Employment_status  \\\n",
       "0               TypeScript   80000             30                  1   \n",
       "1                     Ruby   80000             28                  1   \n",
       "2  Javascript / Typescript  120000             30                  0   \n",
       "3               Javascript   54000             24                  1   \n",
       "4                  C# .NET   62000             29                  1   \n",
       "\n",
       "   Contract_duration  ...  Seniority_level_Lead  Seniority_level_Middle  \\\n",
       "0                  1  ...                     0                       0   \n",
       "1                  1  ...                     0                       0   \n",
       "2                  0  ...                     1                       0   \n",
       "3                  1  ...                     0                       0   \n",
       "4                  1  ...                     0                       0   \n",
       "\n",
       "   Seniority_level_Senior  Company_size_large  Company_size_medium-size  \\\n",
       "0                       1                   0                         1   \n",
       "1                       1                   1                         0   \n",
       "2                       0                   1                         0   \n",
       "3                       0                   0                         1   \n",
       "4                       1                   1                         0   \n",
       "\n",
       "   Company_size_micro  Company_size_small  Language_German  Language_Italian  \\\n",
       "0                   0                   0                0                 0   \n",
       "1                   0                   0                0                 0   \n",
       "2                   0                   0                0                 0   \n",
       "3                   0                   0                0                 0   \n",
       "4                   0                   0                0                 0   \n",
       "\n",
       "   Language_Russian  \n",
       "0                 0  \n",
       "1                 0  \n",
       "2                 0  \n",
       "3                 0  \n",
       "4                 0  \n",
       "\n",
       "[5 rows x 21 columns]"
      ]
     },
     "execution_count": 16,
     "metadata": {},
     "output_type": "execute_result"
    }
   ],
   "source": [
    "df.head()"
   ]
  },
  {
   "cell_type": "markdown",
   "id": "3315a8fc",
   "metadata": {},
   "source": [
    "Wykres rozrzutu dla zmiennej Salary i Experience:"
   ]
  },
  {
   "cell_type": "code",
   "execution_count": 17,
   "id": "9c58341b",
   "metadata": {},
   "outputs": [],
   "source": [
    "from pylab import *"
   ]
  },
  {
   "cell_type": "code",
   "execution_count": 18,
   "id": "2f52ba19",
   "metadata": {},
   "outputs": [
    {
     "data": {
      "image/png": "[encoded data removed]",
      "text/plain": [
       "<Figure size 432x288 with 1 Axes>"
      ]
     },
     "metadata": {
      "needs_background": "light"
     },
     "output_type": "display_data"
    }
   ],
   "source": [
    "plot(df.Experience,df.Salary, 'o')\n",
    "title('Wykres rozrzutu')\n",
    "xlabel('Doświadczenie w latach')\n",
    "ylabel('Zarobki w EUR')\n",
    "axis(ymin=0, xmin=0)\n",
    "tight_layout()\n",
    "savefig('wykres_zarobkow.jpg')\n",
    "show()"
   ]
  },
  {
   "cell_type": "code",
   "execution_count": 164,
   "id": "705213c6",
   "metadata": {},
   "outputs": [
    {
     "data": {
      "image/png": "[encoded data removed]",
      "text/plain": [
       "<Figure size 432x288 with 1 Axes>"
      ]
     },
     "metadata": {
      "needs_background": "light"
     },
     "output_type": "display_data"
    }
   ],
   "source": [
    "hist(df.Salary, bins = 20, edgecolor = 'black', color='pink')\n",
    "title('Salary')\n",
    "show()"
   ]
  },
  {
   "cell_type": "markdown",
   "id": "f94a6540",
   "metadata": {},
   "source": [
    "Histogram zmiennej Salary przypomina rozkład normalny"
   ]
  },
  {
   "cell_type": "markdown",
   "id": "a05fb2e6",
   "metadata": {},
   "source": [
    "Prosta regresja liniowa dla dwóch zmiennych:"
   ]
  },
  {
   "cell_type": "code",
   "execution_count": 20,
   "id": "909353e2",
   "metadata": {},
   "outputs": [],
   "source": [
    "import statsmodels.api as sm"
   ]
  },
  {
   "cell_type": "code",
   "execution_count": 21,
   "id": "6a30e14e",
   "metadata": {},
   "outputs": [],
   "source": [
    "y=df.Salary\n",
    "x=df.Experience"
   ]
  },
  {
   "cell_type": "code",
   "execution_count": 22,
   "id": "908a32ae",
   "metadata": {},
   "outputs": [],
   "source": [
    "model_1= sm.OLS(x,y).fit()"
   ]
  },
  {
   "cell_type": "code",
   "execution_count": 23,
   "id": "13c7fe74",
   "metadata": {},
   "outputs": [
    {
     "data": {
      "text/html": [
       "<table class=\"simpletable\">\n",
       "<caption>OLS Regression Results</caption>\n",
       "<tr>\n",
       "  <th>Dep. Variable:</th>       <td>Experience</td>    <th>  R-squared (uncentered):</th>      <td>   0.774</td>\n",
       "</tr>\n",
       "<tr>\n",
       "  <th>Model:</th>                   <td>OLS</td>       <th>  Adj. R-squared (uncentered):</th> <td>   0.774</td>\n",
       "</tr>\n",
       "<tr>\n",
       "  <th>Method:</th>             <td>Least Squares</td>  <th>  F-statistic:       </th>          <td>   3659.</td>\n",
       "</tr>\n",
       "<tr>\n",
       "  <th>Date:</th>             <td>Wed, 18 Jan 2023</td> <th>  Prob (F-statistic):</th>           <td>  0.00</td> \n",
       "</tr>\n",
       "<tr>\n",
       "  <th>Time:</th>                 <td>21:44:45</td>     <th>  Log-Likelihood:    </th>          <td> -3209.3</td>\n",
       "</tr>\n",
       "<tr>\n",
       "  <th>No. Observations:</th>      <td>  1068</td>      <th>  AIC:               </th>          <td>   6421.</td>\n",
       "</tr>\n",
       "<tr>\n",
       "  <th>Df Residuals:</th>          <td>  1067</td>      <th>  BIC:               </th>          <td>   6426.</td>\n",
       "</tr>\n",
       "<tr>\n",
       "  <th>Df Model:</th>              <td>     1</td>      <th>                     </th>              <td> </td>   \n",
       "</tr>\n",
       "<tr>\n",
       "  <th>Covariance Type:</th>      <td>nonrobust</td>    <th>                     </th>              <td> </td>   \n",
       "</tr>\n",
       "</table>\n",
       "<table class=\"simpletable\">\n",
       "<tr>\n",
       "     <td></td>       <th>coef</th>     <th>std err</th>      <th>t</th>      <th>P>|t|</th>  <th>[0.025</th>    <th>0.975]</th>  \n",
       "</tr>\n",
       "<tr>\n",
       "  <th>Salary</th> <td>    0.0001</td> <td> 2.01e-06</td> <td>   60.486</td> <td> 0.000</td> <td>    0.000</td> <td>    0.000</td>\n",
       "</tr>\n",
       "</table>\n",
       "<table class=\"simpletable\">\n",
       "<tr>\n",
       "  <th>Omnibus:</th>       <td>284.364</td> <th>  Durbin-Watson:     </th> <td>   1.984</td> \n",
       "</tr>\n",
       "<tr>\n",
       "  <th>Prob(Omnibus):</th> <td> 0.000</td>  <th>  Jarque-Bera (JB):  </th> <td>1226.454</td> \n",
       "</tr>\n",
       "<tr>\n",
       "  <th>Skew:</th>          <td> 1.189</td>  <th>  Prob(JB):          </th> <td>4.77e-267</td>\n",
       "</tr>\n",
       "<tr>\n",
       "  <th>Kurtosis:</th>      <td> 7.680</td>  <th>  Cond. No.          </th> <td>    1.00</td> \n",
       "</tr>\n",
       "</table><br/><br/>Notes:<br/>[1] R² is computed without centering (uncentered) since the model does not contain a constant.<br/>[2] Standard Errors assume that the covariance matrix of the errors is correctly specified."
      ],
      "text/plain": [
       "<class 'statsmodels.iolib.summary.Summary'>\n",
       "\"\"\"\n",
       "                                 OLS Regression Results                                \n",
       "=======================================================================================\n",
       "Dep. Variable:             Experience   R-squared (uncentered):                   0.774\n",
       "Model:                            OLS   Adj. R-squared (uncentered):              0.774\n",
       "Method:                 Least Squares   F-statistic:                              3659.\n",
       "Date:                Wed, 18 Jan 2023   Prob (F-statistic):                        0.00\n",
       "Time:                        21:44:45   Log-Likelihood:                         -3209.3\n",
       "No. Observations:                1068   AIC:                                      6421.\n",
       "Df Residuals:                    1067   BIC:                                      6426.\n",
       "Df Model:                           1                                                  \n",
       "Covariance Type:            nonrobust                                                  \n",
       "==============================================================================\n",
       "                 coef    std err          t      P>|t|      [0.025      0.975]\n",
       "------------------------------------------------------------------------------\n",
       "Salary         0.0001   2.01e-06     60.486      0.000       0.000       0.000\n",
       "==============================================================================\n",
       "Omnibus:                      284.364   Durbin-Watson:                   1.984\n",
       "Prob(Omnibus):                  0.000   Jarque-Bera (JB):             1226.454\n",
       "Skew:                           1.189   Prob(JB):                    4.77e-267\n",
       "Kurtosis:                       7.680   Cond. No.                         1.00\n",
       "==============================================================================\n",
       "\n",
       "Notes:\n",
       "[1] R² is computed without centering (uncentered) since the model does not contain a constant.\n",
       "[2] Standard Errors assume that the covariance matrix of the errors is correctly specified.\n",
       "\"\"\""
      ]
     },
     "execution_count": 23,
     "metadata": {},
     "output_type": "execute_result"
    }
   ],
   "source": [
    "model_1.summary()"
   ]
  },
  {
   "cell_type": "code",
   "execution_count": 24,
   "id": "bbba25cc",
   "metadata": {},
   "outputs": [],
   "source": [
    "y=df.Salary\n",
    "x=sm.add_constant(df.Experience)"
   ]
  },
  {
   "cell_type": "code",
   "execution_count": 25,
   "id": "f287552c",
   "metadata": {},
   "outputs": [],
   "source": [
    "model_2 = sm.OLS(y,x).fit()"
   ]
  },
  {
   "cell_type": "code",
   "execution_count": 26,
   "id": "7d52ec34",
   "metadata": {},
   "outputs": [
    {
     "data": {
      "text/html": [
       "<table class=\"simpletable\">\n",
       "<caption>OLS Regression Results</caption>\n",
       "<tr>\n",
       "  <th>Dep. Variable:</th>         <td>Salary</td>      <th>  R-squared:         </th> <td>   0.134</td> \n",
       "</tr>\n",
       "<tr>\n",
       "  <th>Model:</th>                   <td>OLS</td>       <th>  Adj. R-squared:    </th> <td>   0.133</td> \n",
       "</tr>\n",
       "<tr>\n",
       "  <th>Method:</th>             <td>Least Squares</td>  <th>  F-statistic:       </th> <td>   164.4</td> \n",
       "</tr>\n",
       "<tr>\n",
       "  <th>Date:</th>             <td>Wed, 18 Jan 2023</td> <th>  Prob (F-statistic):</th> <td>4.27e-35</td> \n",
       "</tr>\n",
       "<tr>\n",
       "  <th>Time:</th>                 <td>21:45:43</td>     <th>  Log-Likelihood:    </th> <td> -12105.</td> \n",
       "</tr>\n",
       "<tr>\n",
       "  <th>No. Observations:</th>      <td>  1068</td>      <th>  AIC:               </th> <td>2.421e+04</td>\n",
       "</tr>\n",
       "<tr>\n",
       "  <th>Df Residuals:</th>          <td>  1066</td>      <th>  BIC:               </th> <td>2.422e+04</td>\n",
       "</tr>\n",
       "<tr>\n",
       "  <th>Df Model:</th>              <td>     1</td>      <th>                     </th>     <td> </td>    \n",
       "</tr>\n",
       "<tr>\n",
       "  <th>Covariance Type:</th>      <td>nonrobust</td>    <th>                     </th>     <td> </td>    \n",
       "</tr>\n",
       "</table>\n",
       "<table class=\"simpletable\">\n",
       "<tr>\n",
       "       <td></td>         <th>coef</th>     <th>std err</th>      <th>t</th>      <th>P>|t|</th>  <th>[0.025</th>    <th>0.975]</th>  \n",
       "</tr>\n",
       "<tr>\n",
       "  <th>const</th>      <td> 5.764e+04</td> <td> 1229.722</td> <td>   46.870</td> <td> 0.000</td> <td> 5.52e+04</td> <td>    6e+04</td>\n",
       "</tr>\n",
       "<tr>\n",
       "  <th>Experience</th> <td> 1533.7402</td> <td>  119.635</td> <td>   12.820</td> <td> 0.000</td> <td> 1298.994</td> <td> 1768.487</td>\n",
       "</tr>\n",
       "</table>\n",
       "<table class=\"simpletable\">\n",
       "<tr>\n",
       "  <th>Omnibus:</th>       <td>572.483</td> <th>  Durbin-Watson:     </th> <td>   2.041</td>\n",
       "</tr>\n",
       "<tr>\n",
       "  <th>Prob(Omnibus):</th> <td> 0.000</td>  <th>  Jarque-Bera (JB):  </th> <td>8688.353</td>\n",
       "</tr>\n",
       "<tr>\n",
       "  <th>Skew:</th>          <td> 2.109</td>  <th>  Prob(JB):          </th> <td>    0.00</td>\n",
       "</tr>\n",
       "<tr>\n",
       "  <th>Kurtosis:</th>      <td>16.321</td>  <th>  Cond. No.          </th> <td>    20.5</td>\n",
       "</tr>\n",
       "</table><br/><br/>Notes:<br/>[1] Standard Errors assume that the covariance matrix of the errors is correctly specified."
      ],
      "text/plain": [
       "<class 'statsmodels.iolib.summary.Summary'>\n",
       "\"\"\"\n",
       "                            OLS Regression Results                            \n",
       "==============================================================================\n",
       "Dep. Variable:                 Salary   R-squared:                       0.134\n",
       "Model:                            OLS   Adj. R-squared:                  0.133\n",
       "Method:                 Least Squares   F-statistic:                     164.4\n",
       "Date:                Wed, 18 Jan 2023   Prob (F-statistic):           4.27e-35\n",
       "Time:                        21:45:43   Log-Likelihood:                -12105.\n",
       "No. Observations:                1068   AIC:                         2.421e+04\n",
       "Df Residuals:                    1066   BIC:                         2.422e+04\n",
       "Df Model:                           1                                         \n",
       "Covariance Type:            nonrobust                                         \n",
       "==============================================================================\n",
       "                 coef    std err          t      P>|t|      [0.025      0.975]\n",
       "------------------------------------------------------------------------------\n",
       "const       5.764e+04   1229.722     46.870      0.000    5.52e+04       6e+04\n",
       "Experience  1533.7402    119.635     12.820      0.000    1298.994    1768.487\n",
       "==============================================================================\n",
       "Omnibus:                      572.483   Durbin-Watson:                   2.041\n",
       "Prob(Omnibus):                  0.000   Jarque-Bera (JB):             8688.353\n",
       "Skew:                           2.109   Prob(JB):                         0.00\n",
       "Kurtosis:                      16.321   Cond. No.                         20.5\n",
       "==============================================================================\n",
       "\n",
       "Notes:\n",
       "[1] Standard Errors assume that the covariance matrix of the errors is correctly specified.\n",
       "\"\"\""
      ]
     },
     "execution_count": 26,
     "metadata": {},
     "output_type": "execute_result"
    }
   ],
   "source": [
    "model_2.summary()"
   ]
  },
  {
   "cell_type": "code",
   "execution_count": 27,
   "id": "cd98111d",
   "metadata": {},
   "outputs": [
    {
     "data": {
      "text/plain": [
       "array([65305.49989355, 68372.98039268, 76041.68164049, ...,\n",
       "       80642.90238917, 68372.98039268, 60704.27914487])"
      ]
     },
     "execution_count": 27,
     "metadata": {},
     "output_type": "execute_result"
    }
   ],
   "source": [
    "model_2.predict()"
   ]
  },
  {
   "cell_type": "code",
   "execution_count": 28,
   "id": "0a5d975a",
   "metadata": {},
   "outputs": [
    {
     "data": {
      "text/html": [
       "<div>\n",
       "<style scoped>\n",
       "    .dataframe tbody tr th:only-of-type {\n",
       "        vertical-align: middle;\n",
       "    }\n",
       "\n",
       "    .dataframe tbody tr th {\n",
       "        vertical-align: top;\n",
       "    }\n",
       "\n",
       "    .dataframe thead th {\n",
       "        text-align: right;\n",
       "    }\n",
       "</style>\n",
       "<table border=\"1\" class=\"dataframe\">\n",
       "  <thead>\n",
       "    <tr style=\"text-align: right;\">\n",
       "      <th></th>\n",
       "      <th>Date</th>\n",
       "      <th>Age</th>\n",
       "      <th>Gender</th>\n",
       "      <th>Position</th>\n",
       "      <th>Experience</th>\n",
       "      <th>Programming_language</th>\n",
       "      <th>Salary</th>\n",
       "      <th>Vacation_days</th>\n",
       "      <th>Employment_status</th>\n",
       "      <th>Contract_duration</th>\n",
       "      <th>...</th>\n",
       "      <th>Seniority_level_Middle</th>\n",
       "      <th>Seniority_level_Senior</th>\n",
       "      <th>Company_size_large</th>\n",
       "      <th>Company_size_medium-size</th>\n",
       "      <th>Company_size_micro</th>\n",
       "      <th>Company_size_small</th>\n",
       "      <th>Language_German</th>\n",
       "      <th>Language_Italian</th>\n",
       "      <th>Language_Russian</th>\n",
       "      <th>Predictions</th>\n",
       "    </tr>\n",
       "  </thead>\n",
       "  <tbody>\n",
       "    <tr>\n",
       "      <th>0</th>\n",
       "      <td>24.11.2020 11:14</td>\n",
       "      <td>26</td>\n",
       "      <td>1</td>\n",
       "      <td>Software Engineer</td>\n",
       "      <td>5</td>\n",
       "      <td>TypeScript</td>\n",
       "      <td>80000</td>\n",
       "      <td>30</td>\n",
       "      <td>1</td>\n",
       "      <td>1</td>\n",
       "      <td>...</td>\n",
       "      <td>0</td>\n",
       "      <td>1</td>\n",
       "      <td>0</td>\n",
       "      <td>1</td>\n",
       "      <td>0</td>\n",
       "      <td>0</td>\n",
       "      <td>0</td>\n",
       "      <td>0</td>\n",
       "      <td>0</td>\n",
       "      <td>65305.499894</td>\n",
       "    </tr>\n",
       "    <tr>\n",
       "      <th>1</th>\n",
       "      <td>24.11.2020 11:14</td>\n",
       "      <td>26</td>\n",
       "      <td>1</td>\n",
       "      <td>Backend Developer</td>\n",
       "      <td>7</td>\n",
       "      <td>Ruby</td>\n",
       "      <td>80000</td>\n",
       "      <td>28</td>\n",
       "      <td>1</td>\n",
       "      <td>1</td>\n",
       "      <td>...</td>\n",
       "      <td>0</td>\n",
       "      <td>1</td>\n",
       "      <td>1</td>\n",
       "      <td>0</td>\n",
       "      <td>0</td>\n",
       "      <td>0</td>\n",
       "      <td>0</td>\n",
       "      <td>0</td>\n",
       "      <td>0</td>\n",
       "      <td>68372.980393</td>\n",
       "    </tr>\n",
       "    <tr>\n",
       "      <th>2</th>\n",
       "      <td>24.11.2020 11:14</td>\n",
       "      <td>29</td>\n",
       "      <td>1</td>\n",
       "      <td>Software Engineer</td>\n",
       "      <td>12</td>\n",
       "      <td>Javascript / Typescript</td>\n",
       "      <td>120000</td>\n",
       "      <td>30</td>\n",
       "      <td>0</td>\n",
       "      <td>0</td>\n",
       "      <td>...</td>\n",
       "      <td>0</td>\n",
       "      <td>0</td>\n",
       "      <td>1</td>\n",
       "      <td>0</td>\n",
       "      <td>0</td>\n",
       "      <td>0</td>\n",
       "      <td>0</td>\n",
       "      <td>0</td>\n",
       "      <td>0</td>\n",
       "      <td>76041.681640</td>\n",
       "    </tr>\n",
       "    <tr>\n",
       "      <th>3</th>\n",
       "      <td>24.11.2020 11:15</td>\n",
       "      <td>28</td>\n",
       "      <td>1</td>\n",
       "      <td>Frontend Developer</td>\n",
       "      <td>4</td>\n",
       "      <td>Javascript</td>\n",
       "      <td>54000</td>\n",
       "      <td>24</td>\n",
       "      <td>1</td>\n",
       "      <td>1</td>\n",
       "      <td>...</td>\n",
       "      <td>0</td>\n",
       "      <td>0</td>\n",
       "      <td>0</td>\n",
       "      <td>1</td>\n",
       "      <td>0</td>\n",
       "      <td>0</td>\n",
       "      <td>0</td>\n",
       "      <td>0</td>\n",
       "      <td>0</td>\n",
       "      <td>63771.759644</td>\n",
       "    </tr>\n",
       "    <tr>\n",
       "      <th>4</th>\n",
       "      <td>24.11.2020 11:15</td>\n",
       "      <td>37</td>\n",
       "      <td>1</td>\n",
       "      <td>Backend Developer</td>\n",
       "      <td>17</td>\n",
       "      <td>C# .NET</td>\n",
       "      <td>62000</td>\n",
       "      <td>29</td>\n",
       "      <td>1</td>\n",
       "      <td>1</td>\n",
       "      <td>...</td>\n",
       "      <td>0</td>\n",
       "      <td>1</td>\n",
       "      <td>1</td>\n",
       "      <td>0</td>\n",
       "      <td>0</td>\n",
       "      <td>0</td>\n",
       "      <td>0</td>\n",
       "      <td>0</td>\n",
       "      <td>0</td>\n",
       "      <td>83710.382888</td>\n",
       "    </tr>\n",
       "  </tbody>\n",
       "</table>\n",
       "<p>5 rows × 22 columns</p>\n",
       "</div>"
      ],
      "text/plain": [
       "               Date  Age  Gender           Position   Experience  \\\n",
       "0  24.11.2020 11:14   26       1   Software Engineer           5   \n",
       "1  24.11.2020 11:14   26       1   Backend Developer           7   \n",
       "2  24.11.2020 11:14   29       1   Software Engineer          12   \n",
       "3  24.11.2020 11:15   28       1  Frontend Developer           4   \n",
       "4  24.11.2020 11:15   37       1   Backend Developer          17   \n",
       "\n",
       "      Programming_language  Salary  Vacation_days  Employment_status  \\\n",
       "0               TypeScript   80000             30                  1   \n",
       "1                     Ruby   80000             28                  1   \n",
       "2  Javascript / Typescript  120000             30                  0   \n",
       "3               Javascript   54000             24                  1   \n",
       "4                  C# .NET   62000             29                  1   \n",
       "\n",
       "   Contract_duration  ...  Seniority_level_Middle  Seniority_level_Senior  \\\n",
       "0                  1  ...                       0                       1   \n",
       "1                  1  ...                       0                       1   \n",
       "2                  0  ...                       0                       0   \n",
       "3                  1  ...                       0                       0   \n",
       "4                  1  ...                       0                       1   \n",
       "\n",
       "   Company_size_large  Company_size_medium-size  Company_size_micro  \\\n",
       "0                   0                         1                   0   \n",
       "1                   1                         0                   0   \n",
       "2                   1                         0                   0   \n",
       "3                   0                         1                   0   \n",
       "4                   1                         0                   0   \n",
       "\n",
       "   Company_size_small  Language_German  Language_Italian  Language_Russian  \\\n",
       "0                   0                0                 0                 0   \n",
       "1                   0                0                 0                 0   \n",
       "2                   0                0                 0                 0   \n",
       "3                   0                0                 0                 0   \n",
       "4                   0                0                 0                 0   \n",
       "\n",
       "    Predictions  \n",
       "0  65305.499894  \n",
       "1  68372.980393  \n",
       "2  76041.681640  \n",
       "3  63771.759644  \n",
       "4  83710.382888  \n",
       "\n",
       "[5 rows x 22 columns]"
      ]
     },
     "execution_count": 28,
     "metadata": {},
     "output_type": "execute_result"
    }
   ],
   "source": [
    "df['Predictions']= model_2.predict()\n",
    "df.head()"
   ]
  },
  {
   "cell_type": "code",
   "execution_count": 29,
   "id": "3cdd39b9",
   "metadata": {},
   "outputs": [
    {
     "data": {
      "text/plain": [
       "const         57636.798646\n",
       "Experience     1533.740250\n",
       "dtype: float64"
      ]
     },
     "execution_count": 29,
     "metadata": {},
     "output_type": "execute_result"
    }
   ],
   "source": [
    "model_2.params"
   ]
  },
  {
   "cell_type": "code",
   "execution_count": 30,
   "id": "99af965c",
   "metadata": {},
   "outputs": [
    {
     "data": {
      "text/plain": [
       "57636.79864574465"
      ]
     },
     "execution_count": 30,
     "metadata": {},
     "output_type": "execute_result"
    }
   ],
   "source": [
    "model_2.params[0]"
   ]
  },
  {
   "cell_type": "code",
   "execution_count": 156,
   "id": "3a4fd9a8",
   "metadata": {},
   "outputs": [
    {
     "data": {
      "image/png": "[encoded data removed]",
      "text/plain": [
       "<Figure size 432x288 with 1 Axes>"
      ]
     },
     "metadata": {
      "needs_background": "light"
     },
     "output_type": "display_data"
    }
   ],
   "source": [
    "plot(df['Experience'],df['Salary'], 'o')\n",
    "plt.plot(df['Experience'], df['Predictions'], color='pink')\n",
    "title('Wykres rozrzutu')\n",
    "xlabel('Doświadczenie w latach')\n",
    "ylabel('Zarobki w EUR')\n",
    "axis(ymin=0, xmin=0)\n",
    "tight_layout()\n",
    "savefig('wykres_zarobkow2.jpg')\n",
    "show()"
   ]
  },
  {
   "cell_type": "markdown",
   "id": "e672d378",
   "metadata": {},
   "source": [
    "Sprzawdzenie dla zmiennych w logarytmach:"
   ]
  },
  {
   "cell_type": "code",
   "execution_count": 32,
   "id": "ae7d68f6",
   "metadata": {},
   "outputs": [],
   "source": [
    "import numpy as np"
   ]
  },
  {
   "cell_type": "code",
   "execution_count": 33,
   "id": "8da4932e",
   "metadata": {},
   "outputs": [],
   "source": [
    "df['lSalary']=np.log(df['Salary'])"
   ]
  },
  {
   "cell_type": "code",
   "execution_count": 34,
   "id": "36a78f0d",
   "metadata": {},
   "outputs": [],
   "source": [
    "df['lExperience']=np.log(df['Experience'])"
   ]
  },
  {
   "cell_type": "code",
   "execution_count": 35,
   "id": "07414de3",
   "metadata": {},
   "outputs": [
    {
     "data": {
      "image/png": "[encoded data removed]",
      "text/plain": [
       "<Figure size 432x288 with 1 Axes>"
      ]
     },
     "metadata": {
      "needs_background": "light"
     },
     "output_type": "display_data"
    }
   ],
   "source": [
    "plot(df.lExperience,df.lSalary, 'o')\n",
    "title('Wykres rozrzutu')\n",
    "xlabel('Doświadczenie w latach')\n",
    "ylabel('Zarobki w EUR')\n",
    "axis(ymin=0, xmin=0)\n",
    "tight_layout()\n",
    "savefig('wykres_zarobkow.jpg')\n",
    "show()"
   ]
  },
  {
   "cell_type": "code",
   "execution_count": 36,
   "id": "abdf90ea",
   "metadata": {},
   "outputs": [],
   "source": [
    "import wooldridge as w"
   ]
  },
  {
   "cell_type": "code",
   "execution_count": 39,
   "id": "11aacc7a",
   "metadata": {},
   "outputs": [
    {
     "data": {
      "text/plain": [
       "['Date',\n",
       " 'Age',\n",
       " 'Gender',\n",
       " 'Position ',\n",
       " 'Experience',\n",
       " 'Programming_language',\n",
       " 'Salary',\n",
       " 'Vacation_days',\n",
       " 'Employment_status',\n",
       " 'Contract_duration',\n",
       " 'Seniority_level_Junior',\n",
       " 'Seniority_level_Lead',\n",
       " 'Seniority_level_Middle',\n",
       " 'Seniority_level_Senior',\n",
       " 'Company_size_large',\n",
       " 'Company_size_medium_size',\n",
       " 'Company_size_micro',\n",
       " 'Company_size_small',\n",
       " 'Language_German',\n",
       " 'Language_Italian',\n",
       " 'Language_Russian',\n",
       " 'Predictions',\n",
       " 'lSalary',\n",
       " 'lExperience']"
      ]
     },
     "execution_count": 39,
     "metadata": {},
     "output_type": "execute_result"
    }
   ],
   "source": [
    "list(df.columns)"
   ]
  },
  {
   "cell_type": "code",
   "execution_count": 38,
   "id": "0661b28d",
   "metadata": {},
   "outputs": [],
   "source": [
    "df.rename(columns={'Company_size_medium-size':'Company_size_medium_size'},inplace=True)"
   ]
  },
  {
   "cell_type": "code",
   "execution_count": 40,
   "id": "a68924e8",
   "metadata": {},
   "outputs": [
    {
     "data": {
      "text/plain": [
       "count      1068.000000\n",
       "mean      71253.769663\n",
       "std       21747.780580\n",
       "min       10001.000000\n",
       "25%       60000.000000\n",
       "50%       70000.000000\n",
       "75%       80000.000000\n",
       "max      250000.000000\n",
       "Name: Salary, dtype: float64"
      ]
     },
     "execution_count": 40,
     "metadata": {},
     "output_type": "execute_result"
    }
   ],
   "source": [
    "df['Salary'].describe()"
   ]
  },
  {
   "cell_type": "code",
   "execution_count": 42,
   "id": "41eed721",
   "metadata": {},
   "outputs": [
    {
     "data": {
      "image/png": "[encoded data removed]",
      "text/plain": [
       "<Figure size 432x288 with 1 Axes>"
      ]
     },
     "metadata": {
      "needs_background": "light"
     },
     "output_type": "display_data"
    }
   ],
   "source": [
    "hist(df['Salary'], bins =20, edgecolor = 'black')\n",
    "show()"
   ]
  },
  {
   "cell_type": "code",
   "execution_count": 43,
   "id": "5ff20f1b",
   "metadata": {},
   "outputs": [
    {
     "data": {
      "image/png": "[encoded data removed]",
      "text/plain": [
       "<Figure size 432x288 with 1 Axes>"
      ]
     },
     "metadata": {
      "needs_background": "light"
     },
     "output_type": "display_data"
    }
   ],
   "source": [
    "hist(df['lSalary'], bins =20, edgecolor = 'black')\n",
    "show()"
   ]
  },
  {
   "cell_type": "code",
   "execution_count": 44,
   "id": "733986f4",
   "metadata": {},
   "outputs": [],
   "source": [
    "df_ciagle = df[['Salary','Age','Experience','Vacation_days']]"
   ]
  },
  {
   "cell_type": "code",
   "execution_count": 45,
   "id": "93c37532",
   "metadata": {},
   "outputs": [],
   "source": [
    "import seaborn as sns"
   ]
  },
  {
   "cell_type": "code",
   "execution_count": 46,
   "id": "0d4bc7bd",
   "metadata": {},
   "outputs": [
    {
     "data": {
      "text/plain": [
       "<seaborn.axisgrid.PairGrid at 0x7fc983693160>"
      ]
     },
     "execution_count": 46,
     "metadata": {},
     "output_type": "execute_result"
    },
    {
     "data": {
      "image/png": "[encoded data removed]",
      "text/plain": [
       "<Figure size 720x720 with 20 Axes>"
      ]
     },
     "metadata": {
      "needs_background": "light"
     },
     "output_type": "display_data"
    }
   ],
   "source": [
    "sns.pairplot(df_ciagle)"
   ]
  },
  {
   "cell_type": "code",
   "execution_count": 47,
   "id": "e3fe337b",
   "metadata": {},
   "outputs": [
    {
     "data": {
      "text/html": [
       "<div>\n",
       "<style scoped>\n",
       "    .dataframe tbody tr th:only-of-type {\n",
       "        vertical-align: middle;\n",
       "    }\n",
       "\n",
       "    .dataframe tbody tr th {\n",
       "        vertical-align: top;\n",
       "    }\n",
       "\n",
       "    .dataframe thead th {\n",
       "        text-align: right;\n",
       "    }\n",
       "</style>\n",
       "<table border=\"1\" class=\"dataframe\">\n",
       "  <thead>\n",
       "    <tr style=\"text-align: right;\">\n",
       "      <th></th>\n",
       "      <th>Salary</th>\n",
       "      <th>Age</th>\n",
       "      <th>Experience</th>\n",
       "      <th>Vacation_days</th>\n",
       "    </tr>\n",
       "  </thead>\n",
       "  <tbody>\n",
       "    <tr>\n",
       "      <th>Salary</th>\n",
       "      <td>1.000000</td>\n",
       "      <td>0.227035</td>\n",
       "      <td>0.365493</td>\n",
       "      <td>0.100300</td>\n",
       "    </tr>\n",
       "    <tr>\n",
       "      <th>Age</th>\n",
       "      <td>0.227035</td>\n",
       "      <td>1.000000</td>\n",
       "      <td>0.724650</td>\n",
       "      <td>0.132579</td>\n",
       "    </tr>\n",
       "    <tr>\n",
       "      <th>Experience</th>\n",
       "      <td>0.365493</td>\n",
       "      <td>0.724650</td>\n",
       "      <td>1.000000</td>\n",
       "      <td>0.099723</td>\n",
       "    </tr>\n",
       "    <tr>\n",
       "      <th>Vacation_days</th>\n",
       "      <td>0.100300</td>\n",
       "      <td>0.132579</td>\n",
       "      <td>0.099723</td>\n",
       "      <td>1.000000</td>\n",
       "    </tr>\n",
       "  </tbody>\n",
       "</table>\n",
       "</div>"
      ],
      "text/plain": [
       "                 Salary       Age  Experience  Vacation_days\n",
       "Salary         1.000000  0.227035    0.365493       0.100300\n",
       "Age            0.227035  1.000000    0.724650       0.132579\n",
       "Experience     0.365493  0.724650    1.000000       0.099723\n",
       "Vacation_days  0.100300  0.132579    0.099723       1.000000"
      ]
     },
     "execution_count": 47,
     "metadata": {},
     "output_type": "execute_result"
    }
   ],
   "source": [
    "df_ciagle.corr(method = 'pearson')"
   ]
  },
  {
   "cell_type": "code",
   "execution_count": 162,
   "id": "60639918",
   "metadata": {},
   "outputs": [
    {
     "data": {
      "text/plain": [
       "<AxesSubplot:>"
      ]
     },
     "execution_count": 162,
     "metadata": {},
     "output_type": "execute_result"
    },
    {
     "data": {
      "image/png": "[encoded data removed]",
      "text/plain": [
       "<Figure size 432x288 with 2 Axes>"
      ]
     },
     "metadata": {
      "needs_background": "light"
     },
     "output_type": "display_data"
    }
   ],
   "source": [
    "sns.heatmap(df_ciagle.corr(method = 'pearson'), vmin= -1, vmax= 2, annot = True, cmap='Blues')"
   ]
  },
  {
   "cell_type": "markdown",
   "id": "1f48de72",
   "metadata": {},
   "source": [
    "Zauważalna jest silna dodatnia korelacja pomiędzy zmiennymi Age i Experience"
   ]
  },
  {
   "cell_type": "markdown",
   "id": "eca07d61",
   "metadata": {},
   "source": [
    "Przeanalizujmy zmienne zerojedynkowe"
   ]
  },
  {
   "cell_type": "code",
   "execution_count": 49,
   "id": "c2ae5fb7",
   "metadata": {},
   "outputs": [
    {
     "data": {
      "text/plain": [
       "[<matplotlib.lines.Line2D at 0x7fc958156af0>]"
      ]
     },
     "execution_count": 49,
     "metadata": {},
     "output_type": "execute_result"
    },
    {
     "data": {
      "image/png": "[encoded data removed]",
      "text/plain": [
       "<Figure size 432x288 with 1 Axes>"
      ]
     },
     "metadata": {
      "needs_background": "light"
     },
     "output_type": "display_data"
    }
   ],
   "source": [
    "plot(df['Gender'], df['Salary'],'o')"
   ]
  },
  {
   "cell_type": "markdown",
   "id": "56c02b4d",
   "metadata": {},
   "source": [
    "Zaczynam tworzenie modelu regresji liniowej z wykorzystaniem wszystkich wybranych zmiennych:"
   ]
  },
  {
   "cell_type": "code",
   "execution_count": 50,
   "id": "5ced8d4a",
   "metadata": {},
   "outputs": [],
   "source": [
    "import statsmodels.formula.api as smf"
   ]
  },
  {
   "cell_type": "code",
   "execution_count": 51,
   "id": "cdf23049",
   "metadata": {},
   "outputs": [
    {
     "data": {
      "text/html": [
       "<table class=\"simpletable\">\n",
       "<caption>OLS Regression Results</caption>\n",
       "<tr>\n",
       "  <th>Dep. Variable:</th>         <td>Salary</td>      <th>  R-squared:         </th> <td>   0.417</td> \n",
       "</tr>\n",
       "<tr>\n",
       "  <th>Model:</th>                   <td>OLS</td>       <th>  Adj. R-squared:    </th> <td>   0.408</td> \n",
       "</tr>\n",
       "<tr>\n",
       "  <th>Method:</th>             <td>Least Squares</td>  <th>  F-statistic:       </th> <td>   44.23</td> \n",
       "</tr>\n",
       "<tr>\n",
       "  <th>Date:</th>             <td>Wed, 18 Jan 2023</td> <th>  Prob (F-statistic):</th> <td>2.03e-110</td>\n",
       "</tr>\n",
       "<tr>\n",
       "  <th>Time:</th>                 <td>22:02:10</td>     <th>  Log-Likelihood:    </th> <td> -11893.</td> \n",
       "</tr>\n",
       "<tr>\n",
       "  <th>No. Observations:</th>      <td>  1068</td>      <th>  AIC:               </th> <td>2.382e+04</td>\n",
       "</tr>\n",
       "<tr>\n",
       "  <th>Df Residuals:</th>          <td>  1050</td>      <th>  BIC:               </th> <td>2.391e+04</td>\n",
       "</tr>\n",
       "<tr>\n",
       "  <th>Df Model:</th>              <td>    17</td>      <th>                     </th>     <td> </td>    \n",
       "</tr>\n",
       "<tr>\n",
       "  <th>Covariance Type:</th>      <td>nonrobust</td>    <th>                     </th>     <td> </td>    \n",
       "</tr>\n",
       "</table>\n",
       "<table class=\"simpletable\">\n",
       "<tr>\n",
       "              <td></td>                <th>coef</th>     <th>std err</th>      <th>t</th>      <th>P>|t|</th>  <th>[0.025</th>    <th>0.975]</th>  \n",
       "</tr>\n",
       "<tr>\n",
       "  <th>Intercept</th>                <td> 1.095e+05</td> <td> 7244.397</td> <td>   15.115</td> <td> 0.000</td> <td> 9.53e+04</td> <td> 1.24e+05</td>\n",
       "</tr>\n",
       "<tr>\n",
       "  <th>Age</th>                      <td> -120.1052</td> <td>  140.021</td> <td>   -0.858</td> <td> 0.391</td> <td> -394.858</td> <td>  154.648</td>\n",
       "</tr>\n",
       "<tr>\n",
       "  <th>Gender</th>                   <td> 6703.0948</td> <td> 1515.309</td> <td>    4.424</td> <td> 0.000</td> <td> 3729.715</td> <td> 9676.474</td>\n",
       "</tr>\n",
       "<tr>\n",
       "  <th>Experience</th>               <td>  502.4863</td> <td>  158.474</td> <td>    3.171</td> <td> 0.002</td> <td>  191.524</td> <td>  813.449</td>\n",
       "</tr>\n",
       "<tr>\n",
       "  <th>Vacation_days</th>            <td>  427.2379</td> <td>  150.507</td> <td>    2.839</td> <td> 0.005</td> <td>  131.909</td> <td>  722.567</td>\n",
       "</tr>\n",
       "<tr>\n",
       "  <th>Contract_duration</th>        <td> 2638.7054</td> <td> 2649.449</td> <td>    0.996</td> <td> 0.320</td> <td>-2560.111</td> <td> 7837.522</td>\n",
       "</tr>\n",
       "<tr>\n",
       "  <th>Seniority_level_Junior</th>   <td>-4.212e+04</td> <td> 3735.432</td> <td>  -11.275</td> <td> 0.000</td> <td>-4.94e+04</td> <td>-3.48e+04</td>\n",
       "</tr>\n",
       "<tr>\n",
       "  <th>Seniority_level_Lead</th>     <td>-8601.5497</td> <td> 3098.480</td> <td>   -2.776</td> <td> 0.006</td> <td>-1.47e+04</td> <td>-2521.632</td>\n",
       "</tr>\n",
       "<tr>\n",
       "  <th>Seniority_level_Middle</th>   <td>-3.312e+04</td> <td> 3051.928</td> <td>  -10.854</td> <td> 0.000</td> <td>-3.91e+04</td> <td>-2.71e+04</td>\n",
       "</tr>\n",
       "<tr>\n",
       "  <th>Seniority_level_Senior</th>   <td>-2.182e+04</td> <td> 2891.619</td> <td>   -7.545</td> <td> 0.000</td> <td>-2.75e+04</td> <td>-1.61e+04</td>\n",
       "</tr>\n",
       "<tr>\n",
       "  <th>Employment_status</th>        <td>-2.958e+04</td> <td> 3908.002</td> <td>   -7.568</td> <td> 0.000</td> <td>-3.72e+04</td> <td>-2.19e+04</td>\n",
       "</tr>\n",
       "<tr>\n",
       "  <th>Company_size_large</th>       <td>-6947.8792</td> <td> 1233.768</td> <td>   -5.631</td> <td> 0.000</td> <td>-9368.810</td> <td>-4526.948</td>\n",
       "</tr>\n",
       "<tr>\n",
       "  <th>Company_size_medium_size</th> <td>-9779.5575</td> <td> 1728.715</td> <td>   -5.657</td> <td> 0.000</td> <td>-1.32e+04</td> <td>-6387.428</td>\n",
       "</tr>\n",
       "<tr>\n",
       "  <th>Company_size_micro</th>       <td>-1.371e+04</td> <td> 2812.454</td> <td>   -4.875</td> <td> 0.000</td> <td>-1.92e+04</td> <td>-8192.306</td>\n",
       "</tr>\n",
       "<tr>\n",
       "  <th>Company_size_small</th>       <td>-9727.6306</td> <td> 1651.344</td> <td>   -5.891</td> <td> 0.000</td> <td> -1.3e+04</td> <td>-6487.321</td>\n",
       "</tr>\n",
       "<tr>\n",
       "  <th>Language_German</th>          <td>-4249.3720</td> <td> 1526.815</td> <td>   -2.783</td> <td> 0.005</td> <td>-7245.327</td> <td>-1253.417</td>\n",
       "</tr>\n",
       "<tr>\n",
       "  <th>Language_Italian</th>         <td>-3.104e+04</td> <td> 9814.657</td> <td>   -3.163</td> <td> 0.002</td> <td>-5.03e+04</td> <td>-1.18e+04</td>\n",
       "</tr>\n",
       "<tr>\n",
       "  <th>Language_Russian</th>         <td>-1.796e+04</td> <td> 5360.789</td> <td>   -3.350</td> <td> 0.001</td> <td>-2.85e+04</td> <td>-7440.269</td>\n",
       "</tr>\n",
       "</table>\n",
       "<table class=\"simpletable\">\n",
       "<tr>\n",
       "  <th>Omnibus:</th>       <td>606.934</td> <th>  Durbin-Watson:     </th> <td>   2.079</td> \n",
       "</tr>\n",
       "<tr>\n",
       "  <th>Prob(Omnibus):</th> <td> 0.000</td>  <th>  Jarque-Bera (JB):  </th> <td>12167.908</td>\n",
       "</tr>\n",
       "<tr>\n",
       "  <th>Skew:</th>          <td> 2.186</td>  <th>  Prob(JB):          </th> <td>    0.00</td> \n",
       "</tr>\n",
       "<tr>\n",
       "  <th>Kurtosis:</th>      <td>18.947</td>  <th>  Cond. No.          </th> <td>    856.</td> \n",
       "</tr>\n",
       "</table><br/><br/>Notes:<br/>[1] Standard Errors assume that the covariance matrix of the errors is correctly specified."
      ],
      "text/plain": [
       "<class 'statsmodels.iolib.summary.Summary'>\n",
       "\"\"\"\n",
       "                            OLS Regression Results                            \n",
       "==============================================================================\n",
       "Dep. Variable:                 Salary   R-squared:                       0.417\n",
       "Model:                            OLS   Adj. R-squared:                  0.408\n",
       "Method:                 Least Squares   F-statistic:                     44.23\n",
       "Date:                Wed, 18 Jan 2023   Prob (F-statistic):          2.03e-110\n",
       "Time:                        22:02:10   Log-Likelihood:                -11893.\n",
       "No. Observations:                1068   AIC:                         2.382e+04\n",
       "Df Residuals:                    1050   BIC:                         2.391e+04\n",
       "Df Model:                          17                                         \n",
       "Covariance Type:            nonrobust                                         \n",
       "============================================================================================\n",
       "                               coef    std err          t      P>|t|      [0.025      0.975]\n",
       "--------------------------------------------------------------------------------------------\n",
       "Intercept                 1.095e+05   7244.397     15.115      0.000    9.53e+04    1.24e+05\n",
       "Age                       -120.1052    140.021     -0.858      0.391    -394.858     154.648\n",
       "Gender                    6703.0948   1515.309      4.424      0.000    3729.715    9676.474\n",
       "Experience                 502.4863    158.474      3.171      0.002     191.524     813.449\n",
       "Vacation_days              427.2379    150.507      2.839      0.005     131.909     722.567\n",
       "Contract_duration         2638.7054   2649.449      0.996      0.320   -2560.111    7837.522\n",
       "Seniority_level_Junior   -4.212e+04   3735.432    -11.275      0.000   -4.94e+04   -3.48e+04\n",
       "Seniority_level_Lead     -8601.5497   3098.480     -2.776      0.006   -1.47e+04   -2521.632\n",
       "Seniority_level_Middle   -3.312e+04   3051.928    -10.854      0.000   -3.91e+04   -2.71e+04\n",
       "Seniority_level_Senior   -2.182e+04   2891.619     -7.545      0.000   -2.75e+04   -1.61e+04\n",
       "Employment_status        -2.958e+04   3908.002     -7.568      0.000   -3.72e+04   -2.19e+04\n",
       "Company_size_large       -6947.8792   1233.768     -5.631      0.000   -9368.810   -4526.948\n",
       "Company_size_medium_size -9779.5575   1728.715     -5.657      0.000   -1.32e+04   -6387.428\n",
       "Company_size_micro       -1.371e+04   2812.454     -4.875      0.000   -1.92e+04   -8192.306\n",
       "Company_size_small       -9727.6306   1651.344     -5.891      0.000    -1.3e+04   -6487.321\n",
       "Language_German          -4249.3720   1526.815     -2.783      0.005   -7245.327   -1253.417\n",
       "Language_Italian         -3.104e+04   9814.657     -3.163      0.002   -5.03e+04   -1.18e+04\n",
       "Language_Russian         -1.796e+04   5360.789     -3.350      0.001   -2.85e+04   -7440.269\n",
       "==============================================================================\n",
       "Omnibus:                      606.934   Durbin-Watson:                   2.079\n",
       "Prob(Omnibus):                  0.000   Jarque-Bera (JB):            12167.908\n",
       "Skew:                           2.186   Prob(JB):                         0.00\n",
       "Kurtosis:                      18.947   Cond. No.                         856.\n",
       "==============================================================================\n",
       "\n",
       "Notes:\n",
       "[1] Standard Errors assume that the covariance matrix of the errors is correctly specified.\n",
       "\"\"\""
      ]
     },
     "execution_count": 51,
     "metadata": {},
     "output_type": "execute_result"
    }
   ],
   "source": [
    "m1 = smf.ols(formula = 'Salary ~ Age + Gender + Experience + Vacation_days + Contract_duration + Seniority_level_Junior + Seniority_level_Lead + Seniority_level_Middle + Seniority_level_Senior + Employment_status + Company_size_large + Company_size_medium_size + Company_size_micro + Company_size_small + Language_German + Language_Italian + Language_Russian', data = df).fit()\n",
    "m1.summary()"
   ]
  },
  {
   "cell_type": "markdown",
   "id": "f8132175",
   "metadata": {},
   "source": [
    "Selekcja zmiennych - Metoda od ogółu do szczegółu: "
   ]
  },
  {
   "cell_type": "markdown",
   "id": "7006ebd1",
   "metadata": {},
   "source": [
    "Pierwszą zmienną, którą będę weryfikować jest zmienna Age"
   ]
  },
  {
   "cell_type": "code",
   "execution_count": 58,
   "id": "96fcd442",
   "metadata": {},
   "outputs": [],
   "source": [
    "hip1 = '(Age = 0)'"
   ]
  },
  {
   "cell_type": "code",
   "execution_count": 59,
   "id": "91bf29c4",
   "metadata": {},
   "outputs": [
    {
     "data": {
      "text/plain": [
       "<class 'statsmodels.stats.contrast.ContrastResults'>\n",
       "<F test: F=0.7357618752620921, p=0.3912176362684765, df_denom=1.05e+03, df_num=1>"
      ]
     },
     "execution_count": 59,
     "metadata": {},
     "output_type": "execute_result"
    }
   ],
   "source": [
    "m1.f_test(hip1)"
   ]
  },
  {
   "cell_type": "markdown",
   "id": "1b9baa80",
   "metadata": {},
   "source": [
    "Brak podstaw do odrzucenia Ho o braku istotności zmiennej w modelu.\n",
    "\n",
    "Zmienna Age zostaje usunięta z modelu."
   ]
  },
  {
   "cell_type": "code",
   "execution_count": 61,
   "id": "9384dee6",
   "metadata": {},
   "outputs": [
    {
     "data": {
      "text/html": [
       "<table class=\"simpletable\">\n",
       "<caption>OLS Regression Results</caption>\n",
       "<tr>\n",
       "  <th>Dep. Variable:</th>         <td>Salary</td>      <th>  R-squared:         </th> <td>   0.417</td> \n",
       "</tr>\n",
       "<tr>\n",
       "  <th>Model:</th>                   <td>OLS</td>       <th>  Adj. R-squared:    </th> <td>   0.408</td> \n",
       "</tr>\n",
       "<tr>\n",
       "  <th>Method:</th>             <td>Least Squares</td>  <th>  F-statistic:       </th> <td>   46.96</td> \n",
       "</tr>\n",
       "<tr>\n",
       "  <th>Date:</th>             <td>Wed, 18 Jan 2023</td> <th>  Prob (F-statistic):</th> <td>4.17e-111</td>\n",
       "</tr>\n",
       "<tr>\n",
       "  <th>Time:</th>                 <td>22:13:43</td>     <th>  Log-Likelihood:    </th> <td> -11893.</td> \n",
       "</tr>\n",
       "<tr>\n",
       "  <th>No. Observations:</th>      <td>  1068</td>      <th>  AIC:               </th> <td>2.382e+04</td>\n",
       "</tr>\n",
       "<tr>\n",
       "  <th>Df Residuals:</th>          <td>  1051</td>      <th>  BIC:               </th> <td>2.391e+04</td>\n",
       "</tr>\n",
       "<tr>\n",
       "  <th>Df Model:</th>              <td>    16</td>      <th>                     </th>     <td> </td>    \n",
       "</tr>\n",
       "<tr>\n",
       "  <th>Covariance Type:</th>      <td>nonrobust</td>    <th>                     </th>     <td> </td>    \n",
       "</tr>\n",
       "</table>\n",
       "<table class=\"simpletable\">\n",
       "<tr>\n",
       "              <td></td>                <th>coef</th>     <th>std err</th>      <th>t</th>      <th>P>|t|</th>  <th>[0.025</th>    <th>0.975]</th>  \n",
       "</tr>\n",
       "<tr>\n",
       "  <th>Intercept</th>                <td> 1.066e+05</td> <td> 6427.232</td> <td>   16.591</td> <td> 0.000</td> <td>  9.4e+04</td> <td> 1.19e+05</td>\n",
       "</tr>\n",
       "<tr>\n",
       "  <th>Gender</th>                   <td> 6760.3081</td> <td> 1513.650</td> <td>    4.466</td> <td> 0.000</td> <td> 3790.187</td> <td> 9730.429</td>\n",
       "</tr>\n",
       "<tr>\n",
       "  <th>Experience</th>               <td>  412.6144</td> <td>  118.882</td> <td>    3.471</td> <td> 0.001</td> <td>  179.341</td> <td>  645.887</td>\n",
       "</tr>\n",
       "<tr>\n",
       "  <th>Vacation_days</th>            <td>  418.6396</td> <td>  150.154</td> <td>    2.788</td> <td> 0.005</td> <td>  124.004</td> <td>  713.276</td>\n",
       "</tr>\n",
       "<tr>\n",
       "  <th>Contract_duration</th>        <td> 2651.7623</td> <td> 2649.072</td> <td>    1.001</td> <td> 0.317</td> <td>-2546.309</td> <td> 7849.834</td>\n",
       "</tr>\n",
       "<tr>\n",
       "  <th>Seniority_level_Junior</th>   <td>-4.204e+04</td> <td> 3733.821</td> <td>  -11.259</td> <td> 0.000</td> <td>-4.94e+04</td> <td>-3.47e+04</td>\n",
       "</tr>\n",
       "<tr>\n",
       "  <th>Seniority_level_Lead</th>     <td>-8502.6728</td> <td> 3095.946</td> <td>   -2.746</td> <td> 0.006</td> <td>-1.46e+04</td> <td>-2427.735</td>\n",
       "</tr>\n",
       "<tr>\n",
       "  <th>Seniority_level_Middle</th>   <td>-3.302e+04</td> <td> 3048.907</td> <td>  -10.829</td> <td> 0.000</td> <td> -3.9e+04</td> <td> -2.7e+04</td>\n",
       "</tr>\n",
       "<tr>\n",
       "  <th>Seniority_level_Senior</th>   <td>-2.174e+04</td> <td> 2889.917</td> <td>   -7.523</td> <td> 0.000</td> <td>-2.74e+04</td> <td>-1.61e+04</td>\n",
       "</tr>\n",
       "<tr>\n",
       "  <th>Employment_status</th>        <td>-2.965e+04</td> <td> 3906.568</td> <td>   -7.590</td> <td> 0.000</td> <td>-3.73e+04</td> <td> -2.2e+04</td>\n",
       "</tr>\n",
       "<tr>\n",
       "  <th>Company_size_large</th>       <td>-7006.6815</td> <td> 1231.707</td> <td>   -5.689</td> <td> 0.000</td> <td>-9423.566</td> <td>-4589.797</td>\n",
       "</tr>\n",
       "<tr>\n",
       "  <th>Company_size_medium_size</th> <td>-9884.1711</td> <td> 1724.191</td> <td>   -5.733</td> <td> 0.000</td> <td>-1.33e+04</td> <td>-6500.923</td>\n",
       "</tr>\n",
       "<tr>\n",
       "  <th>Company_size_micro</th>       <td>-1.376e+04</td> <td> 2811.572</td> <td>   -4.893</td> <td> 0.000</td> <td>-1.93e+04</td> <td>-8240.788</td>\n",
       "</tr>\n",
       "<tr>\n",
       "  <th>Company_size_small</th>       <td>-9756.2632</td> <td> 1650.799</td> <td>   -5.910</td> <td> 0.000</td> <td> -1.3e+04</td> <td>-6517.026</td>\n",
       "</tr>\n",
       "<tr>\n",
       "  <th>Language_German</th>          <td>-4483.1854</td> <td> 1502.096</td> <td>   -2.985</td> <td> 0.003</td> <td>-7430.634</td> <td>-1535.737</td>\n",
       "</tr>\n",
       "<tr>\n",
       "  <th>Language_Italian</th>         <td>-3.102e+04</td> <td> 9813.383</td> <td>   -3.161</td> <td> 0.002</td> <td>-5.03e+04</td> <td>-1.18e+04</td>\n",
       "</tr>\n",
       "<tr>\n",
       "  <th>Language_Russian</th>         <td>-1.822e+04</td> <td> 5351.444</td> <td>   -3.405</td> <td> 0.001</td> <td>-2.87e+04</td> <td>-7720.069</td>\n",
       "</tr>\n",
       "</table>\n",
       "<table class=\"simpletable\">\n",
       "<tr>\n",
       "  <th>Omnibus:</th>       <td>609.848</td> <th>  Durbin-Watson:     </th> <td>   2.077</td> \n",
       "</tr>\n",
       "<tr>\n",
       "  <th>Prob(Omnibus):</th> <td> 0.000</td>  <th>  Jarque-Bera (JB):  </th> <td>12374.385</td>\n",
       "</tr>\n",
       "<tr>\n",
       "  <th>Skew:</th>          <td> 2.197</td>  <th>  Prob(JB):          </th> <td>    0.00</td> \n",
       "</tr>\n",
       "<tr>\n",
       "  <th>Kurtosis:</th>      <td>19.086</td>  <th>  Cond. No.          </th> <td>    575.</td> \n",
       "</tr>\n",
       "</table><br/><br/>Notes:<br/>[1] Standard Errors assume that the covariance matrix of the errors is correctly specified."
      ],
      "text/plain": [
       "<class 'statsmodels.iolib.summary.Summary'>\n",
       "\"\"\"\n",
       "                            OLS Regression Results                            \n",
       "==============================================================================\n",
       "Dep. Variable:                 Salary   R-squared:                       0.417\n",
       "Model:                            OLS   Adj. R-squared:                  0.408\n",
       "Method:                 Least Squares   F-statistic:                     46.96\n",
       "Date:                Wed, 18 Jan 2023   Prob (F-statistic):          4.17e-111\n",
       "Time:                        22:13:43   Log-Likelihood:                -11893.\n",
       "No. Observations:                1068   AIC:                         2.382e+04\n",
       "Df Residuals:                    1051   BIC:                         2.391e+04\n",
       "Df Model:                          16                                         \n",
       "Covariance Type:            nonrobust                                         \n",
       "============================================================================================\n",
       "                               coef    std err          t      P>|t|      [0.025      0.975]\n",
       "--------------------------------------------------------------------------------------------\n",
       "Intercept                 1.066e+05   6427.232     16.591      0.000     9.4e+04    1.19e+05\n",
       "Gender                    6760.3081   1513.650      4.466      0.000    3790.187    9730.429\n",
       "Experience                 412.6144    118.882      3.471      0.001     179.341     645.887\n",
       "Vacation_days              418.6396    150.154      2.788      0.005     124.004     713.276\n",
       "Contract_duration         2651.7623   2649.072      1.001      0.317   -2546.309    7849.834\n",
       "Seniority_level_Junior   -4.204e+04   3733.821    -11.259      0.000   -4.94e+04   -3.47e+04\n",
       "Seniority_level_Lead     -8502.6728   3095.946     -2.746      0.006   -1.46e+04   -2427.735\n",
       "Seniority_level_Middle   -3.302e+04   3048.907    -10.829      0.000    -3.9e+04    -2.7e+04\n",
       "Seniority_level_Senior   -2.174e+04   2889.917     -7.523      0.000   -2.74e+04   -1.61e+04\n",
       "Employment_status        -2.965e+04   3906.568     -7.590      0.000   -3.73e+04    -2.2e+04\n",
       "Company_size_large       -7006.6815   1231.707     -5.689      0.000   -9423.566   -4589.797\n",
       "Company_size_medium_size -9884.1711   1724.191     -5.733      0.000   -1.33e+04   -6500.923\n",
       "Company_size_micro       -1.376e+04   2811.572     -4.893      0.000   -1.93e+04   -8240.788\n",
       "Company_size_small       -9756.2632   1650.799     -5.910      0.000    -1.3e+04   -6517.026\n",
       "Language_German          -4483.1854   1502.096     -2.985      0.003   -7430.634   -1535.737\n",
       "Language_Italian         -3.102e+04   9813.383     -3.161      0.002   -5.03e+04   -1.18e+04\n",
       "Language_Russian         -1.822e+04   5351.444     -3.405      0.001   -2.87e+04   -7720.069\n",
       "==============================================================================\n",
       "Omnibus:                      609.848   Durbin-Watson:                   2.077\n",
       "Prob(Omnibus):                  0.000   Jarque-Bera (JB):            12374.385\n",
       "Skew:                           2.197   Prob(JB):                         0.00\n",
       "Kurtosis:                      19.086   Cond. No.                         575.\n",
       "==============================================================================\n",
       "\n",
       "Notes:\n",
       "[1] Standard Errors assume that the covariance matrix of the errors is correctly specified.\n",
       "\"\"\""
      ]
     },
     "execution_count": 61,
     "metadata": {},
     "output_type": "execute_result"
    }
   ],
   "source": [
    "m2 = smf.ols(formula = 'Salary ~ Gender + Experience + Vacation_days + Contract_duration + Seniority_level_Junior + Seniority_level_Lead + Seniority_level_Middle + Seniority_level_Senior + Employment_status + Company_size_large + Company_size_medium_size + Company_size_micro + Company_size_small + Language_German + Language_Italian + Language_Russian', data = df).fit()\n",
    "m2.summary()"
   ]
  },
  {
   "cell_type": "markdown",
   "id": "bb5f76c6",
   "metadata": {},
   "source": [
    "Sprawdzam kolejną zmienną - Contract_duration"
   ]
  },
  {
   "cell_type": "code",
   "execution_count": 64,
   "id": "570e9fd5",
   "metadata": {},
   "outputs": [],
   "source": [
    "hip2 = '(Age = 0), (Contract_duration = 0)'"
   ]
  },
  {
   "cell_type": "code",
   "execution_count": 65,
   "id": "b49d3473",
   "metadata": {},
   "outputs": [
    {
     "data": {
      "text/plain": [
       "<class 'statsmodels.stats.contrast.ContrastResults'>\n",
       "<F test: F=0.8687711101228868, p=0.4197680089261323, df_denom=1.05e+03, df_num=2>"
      ]
     },
     "execution_count": 65,
     "metadata": {},
     "output_type": "execute_result"
    }
   ],
   "source": [
    "m1.f_test(hip2)"
   ]
  },
  {
   "cell_type": "markdown",
   "id": "4a541d78",
   "metadata": {},
   "source": [
    "Brak podstaw do odrzucenia Ho o braku istotności zmiennej w modelu.\n",
    "\n",
    "Zmienna Contract_duration zostaje usunięta z modelu."
   ]
  },
  {
   "cell_type": "code",
   "execution_count": 73,
   "id": "dc51e6df",
   "metadata": {},
   "outputs": [
    {
     "data": {
      "text/html": [
       "<table class=\"simpletable\">\n",
       "<caption>OLS Regression Results</caption>\n",
       "<tr>\n",
       "  <th>Dep. Variable:</th>         <td>Salary</td>      <th>  R-squared:         </th> <td>   0.416</td> \n",
       "</tr>\n",
       "<tr>\n",
       "  <th>Model:</th>                   <td>OLS</td>       <th>  Adj. R-squared:    </th> <td>   0.408</td> \n",
       "</tr>\n",
       "<tr>\n",
       "  <th>Method:</th>             <td>Least Squares</td>  <th>  F-statistic:       </th> <td>   50.02</td> \n",
       "</tr>\n",
       "<tr>\n",
       "  <th>Date:</th>             <td>Wed, 18 Jan 2023</td> <th>  Prob (F-statistic):</th> <td>9.46e-112</td>\n",
       "</tr>\n",
       "<tr>\n",
       "  <th>Time:</th>                 <td>22:19:18</td>     <th>  Log-Likelihood:    </th> <td> -11894.</td> \n",
       "</tr>\n",
       "<tr>\n",
       "  <th>No. Observations:</th>      <td>  1068</td>      <th>  AIC:               </th> <td>2.382e+04</td>\n",
       "</tr>\n",
       "<tr>\n",
       "  <th>Df Residuals:</th>          <td>  1052</td>      <th>  BIC:               </th> <td>2.390e+04</td>\n",
       "</tr>\n",
       "<tr>\n",
       "  <th>Df Model:</th>              <td>    15</td>      <th>                     </th>     <td> </td>    \n",
       "</tr>\n",
       "<tr>\n",
       "  <th>Covariance Type:</th>      <td>nonrobust</td>    <th>                     </th>     <td> </td>    \n",
       "</tr>\n",
       "</table>\n",
       "<table class=\"simpletable\">\n",
       "<tr>\n",
       "              <td></td>                <th>coef</th>     <th>std err</th>      <th>t</th>      <th>P>|t|</th>  <th>[0.025</th>    <th>0.975]</th>  \n",
       "</tr>\n",
       "<tr>\n",
       "  <th>Intercept</th>                <td> 1.082e+05</td> <td> 6240.454</td> <td>   17.334</td> <td> 0.000</td> <td> 9.59e+04</td> <td>  1.2e+05</td>\n",
       "</tr>\n",
       "<tr>\n",
       "  <th>Gender</th>                   <td> 6726.5817</td> <td> 1513.277</td> <td>    4.445</td> <td> 0.000</td> <td> 3757.197</td> <td> 9695.966</td>\n",
       "</tr>\n",
       "<tr>\n",
       "  <th>Experience</th>               <td>  416.3331</td> <td>  118.824</td> <td>    3.504</td> <td> 0.000</td> <td>  183.174</td> <td>  649.492</td>\n",
       "</tr>\n",
       "<tr>\n",
       "  <th>Vacation_days</th>            <td>  419.9964</td> <td>  150.148</td> <td>    2.797</td> <td> 0.005</td> <td>  125.372</td> <td>  714.620</td>\n",
       "</tr>\n",
       "<tr>\n",
       "  <th>Seniority_level_Junior</th>   <td>-4.233e+04</td> <td> 3722.452</td> <td>  -11.372</td> <td> 0.000</td> <td>-4.96e+04</td> <td> -3.5e+04</td>\n",
       "</tr>\n",
       "<tr>\n",
       "  <th>Seniority_level_Lead</th>     <td>-8637.7422</td> <td> 3093.007</td> <td>   -2.793</td> <td> 0.005</td> <td>-1.47e+04</td> <td>-2568.577</td>\n",
       "</tr>\n",
       "<tr>\n",
       "  <th>Seniority_level_Middle</th>   <td>-3.321e+04</td> <td> 3042.976</td> <td>  -10.912</td> <td> 0.000</td> <td>-3.92e+04</td> <td>-2.72e+04</td>\n",
       "</tr>\n",
       "<tr>\n",
       "  <th>Seniority_level_Senior</th>   <td>-2.191e+04</td> <td> 2884.869</td> <td>   -7.595</td> <td> 0.000</td> <td>-2.76e+04</td> <td>-1.63e+04</td>\n",
       "</tr>\n",
       "<tr>\n",
       "  <th>Employment_status</th>        <td>-2.848e+04</td> <td> 3728.552</td> <td>   -7.639</td> <td> 0.000</td> <td>-3.58e+04</td> <td>-2.12e+04</td>\n",
       "</tr>\n",
       "<tr>\n",
       "  <th>Company_size_large</th>       <td>-7000.9007</td> <td> 1231.695</td> <td>   -5.684</td> <td> 0.000</td> <td>-9417.758</td> <td>-4584.043</td>\n",
       "</tr>\n",
       "<tr>\n",
       "  <th>Company_size_medium_size</th> <td>-9921.0305</td> <td> 1723.799</td> <td>   -5.755</td> <td> 0.000</td> <td>-1.33e+04</td> <td>-6538.555</td>\n",
       "</tr>\n",
       "<tr>\n",
       "  <th>Company_size_micro</th>       <td>-1.402e+04</td> <td> 2798.868</td> <td>   -5.011</td> <td> 0.000</td> <td>-1.95e+04</td> <td>-8532.992</td>\n",
       "</tr>\n",
       "<tr>\n",
       "  <th>Company_size_small</th>       <td>-9807.4354</td> <td> 1650.009</td> <td>   -5.944</td> <td> 0.000</td> <td> -1.3e+04</td> <td>-6569.752</td>\n",
       "</tr>\n",
       "<tr>\n",
       "  <th>Language_German</th>          <td>-4472.5035</td> <td> 1502.060</td> <td>   -2.978</td> <td> 0.003</td> <td>-7419.878</td> <td>-1525.129</td>\n",
       "</tr>\n",
       "<tr>\n",
       "  <th>Language_Italian</th>         <td>-3.182e+04</td> <td> 9780.706</td> <td>   -3.253</td> <td> 0.001</td> <td> -5.1e+04</td> <td>-1.26e+04</td>\n",
       "</tr>\n",
       "<tr>\n",
       "  <th>Language_Russian</th>         <td>-1.811e+04</td> <td> 5350.305</td> <td>   -3.385</td> <td> 0.001</td> <td>-2.86e+04</td> <td>-7611.564</td>\n",
       "</tr>\n",
       "</table>\n",
       "<table class=\"simpletable\">\n",
       "<tr>\n",
       "  <th>Omnibus:</th>       <td>604.644</td> <th>  Durbin-Watson:     </th> <td>   2.085</td> \n",
       "</tr>\n",
       "<tr>\n",
       "  <th>Prob(Omnibus):</th> <td> 0.000</td>  <th>  Jarque-Bera (JB):  </th> <td>12114.177</td>\n",
       "</tr>\n",
       "<tr>\n",
       "  <th>Skew:</th>          <td> 2.175</td>  <th>  Prob(JB):          </th> <td>    0.00</td> \n",
       "</tr>\n",
       "<tr>\n",
       "  <th>Kurtosis:</th>      <td>18.916</td>  <th>  Cond. No.          </th> <td>    572.</td> \n",
       "</tr>\n",
       "</table><br/><br/>Notes:<br/>[1] Standard Errors assume that the covariance matrix of the errors is correctly specified."
      ],
      "text/plain": [
       "<class 'statsmodels.iolib.summary.Summary'>\n",
       "\"\"\"\n",
       "                            OLS Regression Results                            \n",
       "==============================================================================\n",
       "Dep. Variable:                 Salary   R-squared:                       0.416\n",
       "Model:                            OLS   Adj. R-squared:                  0.408\n",
       "Method:                 Least Squares   F-statistic:                     50.02\n",
       "Date:                Wed, 18 Jan 2023   Prob (F-statistic):          9.46e-112\n",
       "Time:                        22:19:18   Log-Likelihood:                -11894.\n",
       "No. Observations:                1068   AIC:                         2.382e+04\n",
       "Df Residuals:                    1052   BIC:                         2.390e+04\n",
       "Df Model:                          15                                         \n",
       "Covariance Type:            nonrobust                                         \n",
       "============================================================================================\n",
       "                               coef    std err          t      P>|t|      [0.025      0.975]\n",
       "--------------------------------------------------------------------------------------------\n",
       "Intercept                 1.082e+05   6240.454     17.334      0.000    9.59e+04     1.2e+05\n",
       "Gender                    6726.5817   1513.277      4.445      0.000    3757.197    9695.966\n",
       "Experience                 416.3331    118.824      3.504      0.000     183.174     649.492\n",
       "Vacation_days              419.9964    150.148      2.797      0.005     125.372     714.620\n",
       "Seniority_level_Junior   -4.233e+04   3722.452    -11.372      0.000   -4.96e+04    -3.5e+04\n",
       "Seniority_level_Lead     -8637.7422   3093.007     -2.793      0.005   -1.47e+04   -2568.577\n",
       "Seniority_level_Middle   -3.321e+04   3042.976    -10.912      0.000   -3.92e+04   -2.72e+04\n",
       "Seniority_level_Senior   -2.191e+04   2884.869     -7.595      0.000   -2.76e+04   -1.63e+04\n",
       "Employment_status        -2.848e+04   3728.552     -7.639      0.000   -3.58e+04   -2.12e+04\n",
       "Company_size_large       -7000.9007   1231.695     -5.684      0.000   -9417.758   -4584.043\n",
       "Company_size_medium_size -9921.0305   1723.799     -5.755      0.000   -1.33e+04   -6538.555\n",
       "Company_size_micro       -1.402e+04   2798.868     -5.011      0.000   -1.95e+04   -8532.992\n",
       "Company_size_small       -9807.4354   1650.009     -5.944      0.000    -1.3e+04   -6569.752\n",
       "Language_German          -4472.5035   1502.060     -2.978      0.003   -7419.878   -1525.129\n",
       "Language_Italian         -3.182e+04   9780.706     -3.253      0.001    -5.1e+04   -1.26e+04\n",
       "Language_Russian         -1.811e+04   5350.305     -3.385      0.001   -2.86e+04   -7611.564\n",
       "==============================================================================\n",
       "Omnibus:                      604.644   Durbin-Watson:                   2.085\n",
       "Prob(Omnibus):                  0.000   Jarque-Bera (JB):            12114.177\n",
       "Skew:                           2.175   Prob(JB):                         0.00\n",
       "Kurtosis:                      18.916   Cond. No.                         572.\n",
       "==============================================================================\n",
       "\n",
       "Notes:\n",
       "[1] Standard Errors assume that the covariance matrix of the errors is correctly specified.\n",
       "\"\"\""
      ]
     },
     "execution_count": 73,
     "metadata": {},
     "output_type": "execute_result"
    }
   ],
   "source": [
    "m3 = smf.ols(formula = 'Salary ~ Gender + Experience + Vacation_days + Seniority_level_Junior + Seniority_level_Lead + Seniority_level_Middle + Seniority_level_Senior + Employment_status + Company_size_large + Company_size_medium_size + Company_size_micro + Company_size_small + Language_German + Language_Italian + Language_Russian', data = df).fit()\n",
    "m3.summary()"
   ]
  },
  {
   "cell_type": "markdown",
   "id": "d21756d0",
   "metadata": {},
   "source": [
    "Na poziomie istotności 5% brak podstaw do weryfikacji istotności pozostałych zmiennych."
   ]
  },
  {
   "cell_type": "markdown",
   "id": "71e49890",
   "metadata": {},
   "source": [
    "Testy diagnostyczne:"
   ]
  },
  {
   "cell_type": "markdown",
   "id": "bd14d9bb",
   "metadata": {},
   "source": [
    "Liniowość w modelu - test RESET:"
   ]
  },
  {
   "cell_type": "code",
   "execution_count": null,
   "id": "6615d243",
   "metadata": {},
   "outputs": [],
   "source": []
  },
  {
   "cell_type": "code",
   "execution_count": 83,
   "id": "85de1d92",
   "metadata": {},
   "outputs": [],
   "source": [
    "import statsmodels.stats.api as sms"
   ]
  },
  {
   "cell_type": "code",
   "execution_count": 78,
   "id": "17cd82ec",
   "metadata": {},
   "outputs": [
    {
     "data": {
      "text/plain": [
       "<class 'statsmodels.stats.contrast.ContrastResults'>\n",
       "<Wald test (chi2): statistic=596.6751083058348, p-value=2.714229003128235e-130, df_denom=2>"
      ]
     },
     "execution_count": 78,
     "metadata": {},
     "output_type": "execute_result"
    }
   ],
   "source": [
    "sms.linear_reset(m3, power = 3, test_type = 'fitted')"
   ]
  },
  {
   "cell_type": "code",
   "execution_count": 79,
   "id": "bee2fcaf",
   "metadata": {},
   "outputs": [
    {
     "data": {
      "text/plain": [
       "<class 'statsmodels.stats.contrast.ContrastResults'>\n",
       "<Wald test (chi2): statistic=10.045637385489952, p-value=0.03966590320647751, df_denom=4>"
      ]
     },
     "execution_count": 79,
     "metadata": {},
     "output_type": "execute_result"
    }
   ],
   "source": [
    "sms.linear_reset(m3, power = 3 , test_type = 'exog')"
   ]
  },
  {
   "cell_type": "markdown",
   "id": "d86f3959",
   "metadata": {},
   "source": [
    "Na poziomie istotności 5% odrzucamy hipotezę o liniowości w modelu.\n",
    "\n",
    "Forma funkcjyjna w modelu nie jest poprawna."
   ]
  },
  {
   "cell_type": "markdown",
   "id": "e270458d",
   "metadata": {},
   "source": [
    "Próba naprawienia formy funkcyjnej:"
   ]
  },
  {
   "cell_type": "markdown",
   "id": "5ffedf85",
   "metadata": {},
   "source": [
    "Do modelu dodaje logarytm zmiennej objaśnianej oraz zmiennej objaśniającej - Experience"
   ]
  },
  {
   "cell_type": "code",
   "execution_count": 81,
   "id": "bc4d179f",
   "metadata": {},
   "outputs": [
    {
     "data": {
      "text/html": [
       "<table class=\"simpletable\">\n",
       "<caption>OLS Regression Results</caption>\n",
       "<tr>\n",
       "  <th>Dep. Variable:</th>         <td>lSalary</td>     <th>  R-squared:         </th> <td>   0.459</td> \n",
       "</tr>\n",
       "<tr>\n",
       "  <th>Model:</th>                   <td>OLS</td>       <th>  Adj. R-squared:    </th> <td>   0.452</td> \n",
       "</tr>\n",
       "<tr>\n",
       "  <th>Method:</th>             <td>Least Squares</td>  <th>  F-statistic:       </th> <td>   59.56</td> \n",
       "</tr>\n",
       "<tr>\n",
       "  <th>Date:</th>             <td>Wed, 18 Jan 2023</td> <th>  Prob (F-statistic):</th> <td>6.52e-129</td>\n",
       "</tr>\n",
       "<tr>\n",
       "  <th>Time:</th>                 <td>22:32:27</td>     <th>  Log-Likelihood:    </th> <td>  78.951</td> \n",
       "</tr>\n",
       "<tr>\n",
       "  <th>No. Observations:</th>      <td>  1068</td>      <th>  AIC:               </th> <td>  -125.9</td> \n",
       "</tr>\n",
       "<tr>\n",
       "  <th>Df Residuals:</th>          <td>  1052</td>      <th>  BIC:               </th> <td>  -46.33</td> \n",
       "</tr>\n",
       "<tr>\n",
       "  <th>Df Model:</th>              <td>    15</td>      <th>                     </th>     <td> </td>    \n",
       "</tr>\n",
       "<tr>\n",
       "  <th>Covariance Type:</th>      <td>nonrobust</td>    <th>                     </th>     <td> </td>    \n",
       "</tr>\n",
       "</table>\n",
       "<table class=\"simpletable\">\n",
       "<tr>\n",
       "              <td></td>                <th>coef</th>     <th>std err</th>      <th>t</th>      <th>P>|t|</th>  <th>[0.025</th>    <th>0.975]</th>  \n",
       "</tr>\n",
       "<tr>\n",
       "  <th>Intercept</th>                <td>   11.1849</td> <td>    0.088</td> <td>  127.011</td> <td> 0.000</td> <td>   11.012</td> <td>   11.358</td>\n",
       "</tr>\n",
       "<tr>\n",
       "  <th>Gender</th>                   <td>    0.0864</td> <td>    0.021</td> <td>    4.213</td> <td> 0.000</td> <td>    0.046</td> <td>    0.127</td>\n",
       "</tr>\n",
       "<tr>\n",
       "  <th>lExperience</th>              <td>    0.0683</td> <td>    0.014</td> <td>    4.779</td> <td> 0.000</td> <td>    0.040</td> <td>    0.096</td>\n",
       "</tr>\n",
       "<tr>\n",
       "  <th>Vacation_days</th>            <td>    0.0102</td> <td>    0.002</td> <td>    5.028</td> <td> 0.000</td> <td>    0.006</td> <td>    0.014</td>\n",
       "</tr>\n",
       "<tr>\n",
       "  <th>Seniority_level_Junior</th>   <td>   -0.5721</td> <td>    0.053</td> <td>  -10.785</td> <td> 0.000</td> <td>   -0.676</td> <td>   -0.468</td>\n",
       "</tr>\n",
       "<tr>\n",
       "  <th>Seniority_level_Lead</th>     <td>   -0.1085</td> <td>    0.042</td> <td>   -2.592</td> <td> 0.010</td> <td>   -0.191</td> <td>   -0.026</td>\n",
       "</tr>\n",
       "<tr>\n",
       "  <th>Seniority_level_Middle</th>   <td>   -0.4245</td> <td>    0.041</td> <td>  -10.281</td> <td> 0.000</td> <td>   -0.506</td> <td>   -0.343</td>\n",
       "</tr>\n",
       "<tr>\n",
       "  <th>Seniority_level_Senior</th>   <td>   -0.2563</td> <td>    0.039</td> <td>   -6.582</td> <td> 0.000</td> <td>   -0.333</td> <td>   -0.180</td>\n",
       "</tr>\n",
       "<tr>\n",
       "  <th>Employment_status</th>        <td>   -0.1770</td> <td>    0.050</td> <td>   -3.508</td> <td> 0.000</td> <td>   -0.276</td> <td>   -0.078</td>\n",
       "</tr>\n",
       "<tr>\n",
       "  <th>Company_size_large</th>       <td>   -0.0788</td> <td>    0.017</td> <td>   -4.726</td> <td> 0.000</td> <td>   -0.111</td> <td>   -0.046</td>\n",
       "</tr>\n",
       "<tr>\n",
       "  <th>Company_size_medium_size</th> <td>   -0.1251</td> <td>    0.023</td> <td>   -5.364</td> <td> 0.000</td> <td>   -0.171</td> <td>   -0.079</td>\n",
       "</tr>\n",
       "<tr>\n",
       "  <th>Company_size_micro</th>       <td>   -0.2173</td> <td>    0.038</td> <td>   -5.727</td> <td> 0.000</td> <td>   -0.292</td> <td>   -0.143</td>\n",
       "</tr>\n",
       "<tr>\n",
       "  <th>Company_size_small</th>       <td>   -0.1362</td> <td>    0.022</td> <td>   -6.102</td> <td> 0.000</td> <td>   -0.180</td> <td>   -0.092</td>\n",
       "</tr>\n",
       "<tr>\n",
       "  <th>Language_German</th>          <td>   -0.0577</td> <td>    0.020</td> <td>   -2.859</td> <td> 0.004</td> <td>   -0.097</td> <td>   -0.018</td>\n",
       "</tr>\n",
       "<tr>\n",
       "  <th>Language_Italian</th>         <td>   -0.5569</td> <td>    0.132</td> <td>   -4.209</td> <td> 0.000</td> <td>   -0.817</td> <td>   -0.297</td>\n",
       "</tr>\n",
       "<tr>\n",
       "  <th>Language_Russian</th>         <td>   -0.4983</td> <td>    0.072</td> <td>   -6.880</td> <td> 0.000</td> <td>   -0.640</td> <td>   -0.356</td>\n",
       "</tr>\n",
       "</table>\n",
       "<table class=\"simpletable\">\n",
       "<tr>\n",
       "  <th>Omnibus:</th>       <td>233.643</td> <th>  Durbin-Watson:     </th> <td>   2.150</td>\n",
       "</tr>\n",
       "<tr>\n",
       "  <th>Prob(Omnibus):</th> <td> 0.000</td>  <th>  Jarque-Bera (JB):  </th> <td>2433.221</td>\n",
       "</tr>\n",
       "<tr>\n",
       "  <th>Skew:</th>          <td>-0.687</td>  <th>  Prob(JB):          </th> <td>    0.00</td>\n",
       "</tr>\n",
       "<tr>\n",
       "  <th>Kurtosis:</th>      <td>10.266</td>  <th>  Cond. No.          </th> <td>    546.</td>\n",
       "</tr>\n",
       "</table><br/><br/>Notes:<br/>[1] Standard Errors assume that the covariance matrix of the errors is correctly specified."
      ],
      "text/plain": [
       "<class 'statsmodels.iolib.summary.Summary'>\n",
       "\"\"\"\n",
       "                            OLS Regression Results                            \n",
       "==============================================================================\n",
       "Dep. Variable:                lSalary   R-squared:                       0.459\n",
       "Model:                            OLS   Adj. R-squared:                  0.452\n",
       "Method:                 Least Squares   F-statistic:                     59.56\n",
       "Date:                Wed, 18 Jan 2023   Prob (F-statistic):          6.52e-129\n",
       "Time:                        22:32:27   Log-Likelihood:                 78.951\n",
       "No. Observations:                1068   AIC:                            -125.9\n",
       "Df Residuals:                    1052   BIC:                            -46.33\n",
       "Df Model:                          15                                         \n",
       "Covariance Type:            nonrobust                                         \n",
       "============================================================================================\n",
       "                               coef    std err          t      P>|t|      [0.025      0.975]\n",
       "--------------------------------------------------------------------------------------------\n",
       "Intercept                   11.1849      0.088    127.011      0.000      11.012      11.358\n",
       "Gender                       0.0864      0.021      4.213      0.000       0.046       0.127\n",
       "lExperience                  0.0683      0.014      4.779      0.000       0.040       0.096\n",
       "Vacation_days                0.0102      0.002      5.028      0.000       0.006       0.014\n",
       "Seniority_level_Junior      -0.5721      0.053    -10.785      0.000      -0.676      -0.468\n",
       "Seniority_level_Lead        -0.1085      0.042     -2.592      0.010      -0.191      -0.026\n",
       "Seniority_level_Middle      -0.4245      0.041    -10.281      0.000      -0.506      -0.343\n",
       "Seniority_level_Senior      -0.2563      0.039     -6.582      0.000      -0.333      -0.180\n",
       "Employment_status           -0.1770      0.050     -3.508      0.000      -0.276      -0.078\n",
       "Company_size_large          -0.0788      0.017     -4.726      0.000      -0.111      -0.046\n",
       "Company_size_medium_size    -0.1251      0.023     -5.364      0.000      -0.171      -0.079\n",
       "Company_size_micro          -0.2173      0.038     -5.727      0.000      -0.292      -0.143\n",
       "Company_size_small          -0.1362      0.022     -6.102      0.000      -0.180      -0.092\n",
       "Language_German             -0.0577      0.020     -2.859      0.004      -0.097      -0.018\n",
       "Language_Italian            -0.5569      0.132     -4.209      0.000      -0.817      -0.297\n",
       "Language_Russian            -0.4983      0.072     -6.880      0.000      -0.640      -0.356\n",
       "==============================================================================\n",
       "Omnibus:                      233.643   Durbin-Watson:                   2.150\n",
       "Prob(Omnibus):                  0.000   Jarque-Bera (JB):             2433.221\n",
       "Skew:                          -0.687   Prob(JB):                         0.00\n",
       "Kurtosis:                      10.266   Cond. No.                         546.\n",
       "==============================================================================\n",
       "\n",
       "Notes:\n",
       "[1] Standard Errors assume that the covariance matrix of the errors is correctly specified.\n",
       "\"\"\""
      ]
     },
     "execution_count": 81,
     "metadata": {},
     "output_type": "execute_result"
    }
   ],
   "source": [
    "m4 = smf.ols(formula = 'lSalary ~ Gender + lExperience + Vacation_days + Seniority_level_Junior + Seniority_level_Lead + Seniority_level_Middle + Seniority_level_Senior + Employment_status + Company_size_large + Company_size_medium_size + Company_size_micro + Company_size_small + Language_German + Language_Italian + Language_Russian', data = df).fit()\n",
    "m4.summary()"
   ]
  },
  {
   "cell_type": "markdown",
   "id": "233674f8",
   "metadata": {},
   "source": [
    "Ponownie weryfikuję test na liniowość formy funkcyjnej. "
   ]
  },
  {
   "cell_type": "code",
   "execution_count": 84,
   "id": "2a038768",
   "metadata": {},
   "outputs": [
    {
     "data": {
      "text/plain": [
       "<class 'statsmodels.stats.contrast.ContrastResults'>\n",
       "<Wald test (chi2): statistic=2.560167181652016, p-value=0.2780140600569437, df_denom=2>"
      ]
     },
     "execution_count": 84,
     "metadata": {},
     "output_type": "execute_result"
    }
   ],
   "source": [
    "sms.linear_reset(m4, power = 3, test_type = 'fitted')"
   ]
  },
  {
   "cell_type": "markdown",
   "id": "e2ae40bb",
   "metadata": {},
   "source": [
    "Na poziomie istotniści 5% brak podstaw do odrzucenia hipotezy o liniowości w modelu."
   ]
  },
  {
   "cell_type": "markdown",
   "id": "7a5d6601",
   "metadata": {},
   "source": [
    "Test chowa:"
   ]
  },
  {
   "cell_type": "code",
   "execution_count": 105,
   "id": "159d237b",
   "metadata": {},
   "outputs": [
    {
     "data": {
      "text/plain": [
       "53.93704658713193"
      ]
     },
     "execution_count": 105,
     "metadata": {},
     "output_type": "execute_result"
    }
   ],
   "source": [
    "m4.ssr"
   ]
  },
  {
   "cell_type": "code",
   "execution_count": 109,
   "id": "e37449bc",
   "metadata": {},
   "outputs": [
    {
     "data": {
      "text/html": [
       "<table class=\"simpletable\">\n",
       "<caption>OLS Regression Results</caption>\n",
       "<tr>\n",
       "  <th>Dep. Variable:</th>         <td>lSalary</td>     <th>  R-squared:         </th> <td>   0.451</td> \n",
       "</tr>\n",
       "<tr>\n",
       "  <th>Model:</th>                   <td>OLS</td>       <th>  Adj. R-squared:    </th> <td>   0.442</td> \n",
       "</tr>\n",
       "<tr>\n",
       "  <th>Method:</th>             <td>Least Squares</td>  <th>  F-statistic:       </th> <td>   52.41</td> \n",
       "</tr>\n",
       "<tr>\n",
       "  <th>Date:</th>             <td>Wed, 18 Jan 2023</td> <th>  Prob (F-statistic):</th> <td>4.25e-106</td>\n",
       "</tr>\n",
       "<tr>\n",
       "  <th>Time:</th>                 <td>23:49:19</td>     <th>  Log-Likelihood:    </th> <td>  60.184</td> \n",
       "</tr>\n",
       "<tr>\n",
       "  <th>No. Observations:</th>      <td>   910</td>      <th>  AIC:               </th> <td>  -90.37</td> \n",
       "</tr>\n",
       "<tr>\n",
       "  <th>Df Residuals:</th>          <td>   895</td>      <th>  BIC:               </th> <td>  -18.17</td> \n",
       "</tr>\n",
       "<tr>\n",
       "  <th>Df Model:</th>              <td>    14</td>      <th>                     </th>     <td> </td>    \n",
       "</tr>\n",
       "<tr>\n",
       "  <th>Covariance Type:</th>      <td>nonrobust</td>    <th>                     </th>     <td> </td>    \n",
       "</tr>\n",
       "</table>\n",
       "<table class=\"simpletable\">\n",
       "<tr>\n",
       "              <td></td>                <th>coef</th>     <th>std err</th>      <th>t</th>      <th>P>|t|</th>  <th>[0.025</th>    <th>0.975]</th>  \n",
       "</tr>\n",
       "<tr>\n",
       "  <th>Intercept</th>                <td>    5.6643</td> <td>    0.046</td> <td>  121.973</td> <td> 0.000</td> <td>    5.573</td> <td>    5.755</td>\n",
       "</tr>\n",
       "<tr>\n",
       "  <th>Gender</th>                   <td>    5.6643</td> <td>    0.046</td> <td>  121.973</td> <td> 0.000</td> <td>    5.573</td> <td>    5.755</td>\n",
       "</tr>\n",
       "<tr>\n",
       "  <th>lExperience</th>              <td>    0.0767</td> <td>    0.016</td> <td>    4.857</td> <td> 0.000</td> <td>    0.046</td> <td>    0.108</td>\n",
       "</tr>\n",
       "<tr>\n",
       "  <th>Vacation_days</th>            <td>    0.0094</td> <td>    0.002</td> <td>    4.412</td> <td> 0.000</td> <td>    0.005</td> <td>    0.014</td>\n",
       "</tr>\n",
       "<tr>\n",
       "  <th>Seniority_level_Junior</th>   <td>   -0.5875</td> <td>    0.058</td> <td>  -10.096</td> <td> 0.000</td> <td>   -0.702</td> <td>   -0.473</td>\n",
       "</tr>\n",
       "<tr>\n",
       "  <th>Seniority_level_Lead</th>     <td>   -0.0993</td> <td>    0.043</td> <td>   -2.312</td> <td> 0.021</td> <td>   -0.184</td> <td>   -0.015</td>\n",
       "</tr>\n",
       "<tr>\n",
       "  <th>Seniority_level_Middle</th>   <td>   -0.4204</td> <td>    0.043</td> <td>   -9.780</td> <td> 0.000</td> <td>   -0.505</td> <td>   -0.336</td>\n",
       "</tr>\n",
       "<tr>\n",
       "  <th>Seniority_level_Senior</th>   <td>   -0.2527</td> <td>    0.040</td> <td>   -6.326</td> <td> 0.000</td> <td>   -0.331</td> <td>   -0.174</td>\n",
       "</tr>\n",
       "<tr>\n",
       "  <th>Employment_status</th>        <td>   -0.2330</td> <td>    0.057</td> <td>   -4.090</td> <td> 0.000</td> <td>   -0.345</td> <td>   -0.121</td>\n",
       "</tr>\n",
       "<tr>\n",
       "  <th>Company_size_large</th>       <td>   -0.0818</td> <td>    0.018</td> <td>   -4.469</td> <td> 0.000</td> <td>   -0.118</td> <td>   -0.046</td>\n",
       "</tr>\n",
       "<tr>\n",
       "  <th>Company_size_medium_size</th> <td>   -0.1203</td> <td>    0.025</td> <td>   -4.767</td> <td> 0.000</td> <td>   -0.170</td> <td>   -0.071</td>\n",
       "</tr>\n",
       "<tr>\n",
       "  <th>Company_size_micro</th>       <td>   -0.2364</td> <td>    0.041</td> <td>   -5.800</td> <td> 0.000</td> <td>   -0.316</td> <td>   -0.156</td>\n",
       "</tr>\n",
       "<tr>\n",
       "  <th>Company_size_small</th>       <td>   -0.1360</td> <td>    0.024</td> <td>   -5.589</td> <td> 0.000</td> <td>   -0.184</td> <td>   -0.088</td>\n",
       "</tr>\n",
       "<tr>\n",
       "  <th>Language_German</th>          <td>   -0.0606</td> <td>    0.023</td> <td>   -2.630</td> <td> 0.009</td> <td>   -0.106</td> <td>   -0.015</td>\n",
       "</tr>\n",
       "<tr>\n",
       "  <th>Language_Italian</th>         <td>   -0.5512</td> <td>    0.134</td> <td>   -4.124</td> <td> 0.000</td> <td>   -0.814</td> <td>   -0.289</td>\n",
       "</tr>\n",
       "<tr>\n",
       "  <th>Language_Russian</th>         <td>   -0.4976</td> <td>    0.073</td> <td>   -6.806</td> <td> 0.000</td> <td>   -0.641</td> <td>   -0.354</td>\n",
       "</tr>\n",
       "</table>\n",
       "<table class=\"simpletable\">\n",
       "<tr>\n",
       "  <th>Omnibus:</th>       <td>214.364</td> <th>  Durbin-Watson:     </th> <td>   2.080</td>\n",
       "</tr>\n",
       "<tr>\n",
       "  <th>Prob(Omnibus):</th> <td> 0.000</td>  <th>  Jarque-Bera (JB):  </th> <td>2514.057</td>\n",
       "</tr>\n",
       "<tr>\n",
       "  <th>Skew:</th>          <td>-0.717</td>  <th>  Prob(JB):          </th> <td>    0.00</td>\n",
       "</tr>\n",
       "<tr>\n",
       "  <th>Kurtosis:</th>      <td>11.016</td>  <th>  Cond. No.          </th> <td>3.09e+15</td>\n",
       "</tr>\n",
       "</table><br/><br/>Notes:<br/>[1] Standard Errors assume that the covariance matrix of the errors is correctly specified.<br/>[2] The smallest eigenvalue is 7.73e-26. This might indicate that there are<br/>strong multicollinearity problems or that the design matrix is singular."
      ],
      "text/plain": [
       "<class 'statsmodels.iolib.summary.Summary'>\n",
       "\"\"\"\n",
       "                            OLS Regression Results                            \n",
       "==============================================================================\n",
       "Dep. Variable:                lSalary   R-squared:                       0.451\n",
       "Model:                            OLS   Adj. R-squared:                  0.442\n",
       "Method:                 Least Squares   F-statistic:                     52.41\n",
       "Date:                Wed, 18 Jan 2023   Prob (F-statistic):          4.25e-106\n",
       "Time:                        23:49:19   Log-Likelihood:                 60.184\n",
       "No. Observations:                 910   AIC:                            -90.37\n",
       "Df Residuals:                     895   BIC:                            -18.17\n",
       "Df Model:                          14                                         \n",
       "Covariance Type:            nonrobust                                         \n",
       "============================================================================================\n",
       "                               coef    std err          t      P>|t|      [0.025      0.975]\n",
       "--------------------------------------------------------------------------------------------\n",
       "Intercept                    5.6643      0.046    121.973      0.000       5.573       5.755\n",
       "Gender                       5.6643      0.046    121.973      0.000       5.573       5.755\n",
       "lExperience                  0.0767      0.016      4.857      0.000       0.046       0.108\n",
       "Vacation_days                0.0094      0.002      4.412      0.000       0.005       0.014\n",
       "Seniority_level_Junior      -0.5875      0.058    -10.096      0.000      -0.702      -0.473\n",
       "Seniority_level_Lead        -0.0993      0.043     -2.312      0.021      -0.184      -0.015\n",
       "Seniority_level_Middle      -0.4204      0.043     -9.780      0.000      -0.505      -0.336\n",
       "Seniority_level_Senior      -0.2527      0.040     -6.326      0.000      -0.331      -0.174\n",
       "Employment_status           -0.2330      0.057     -4.090      0.000      -0.345      -0.121\n",
       "Company_size_large          -0.0818      0.018     -4.469      0.000      -0.118      -0.046\n",
       "Company_size_medium_size    -0.1203      0.025     -4.767      0.000      -0.170      -0.071\n",
       "Company_size_micro          -0.2364      0.041     -5.800      0.000      -0.316      -0.156\n",
       "Company_size_small          -0.1360      0.024     -5.589      0.000      -0.184      -0.088\n",
       "Language_German             -0.0606      0.023     -2.630      0.009      -0.106      -0.015\n",
       "Language_Italian            -0.5512      0.134     -4.124      0.000      -0.814      -0.289\n",
       "Language_Russian            -0.4976      0.073     -6.806      0.000      -0.641      -0.354\n",
       "==============================================================================\n",
       "Omnibus:                      214.364   Durbin-Watson:                   2.080\n",
       "Prob(Omnibus):                  0.000   Jarque-Bera (JB):             2514.057\n",
       "Skew:                          -0.717   Prob(JB):                         0.00\n",
       "Kurtosis:                      11.016   Cond. No.                     3.09e+15\n",
       "==============================================================================\n",
       "\n",
       "Notes:\n",
       "[1] Standard Errors assume that the covariance matrix of the errors is correctly specified.\n",
       "[2] The smallest eigenvalue is 7.73e-26. This might indicate that there are\n",
       "strong multicollinearity problems or that the design matrix is singular.\n",
       "\"\"\""
      ]
     },
     "execution_count": 109,
     "metadata": {},
     "output_type": "execute_result"
    }
   ],
   "source": [
    "m4_1 = smf.ols(formula = 'lSalary ~ Gender + lExperience + Vacation_days + Seniority_level_Junior + Seniority_level_Lead + Seniority_level_Middle + Seniority_level_Senior + Employment_status + Company_size_large + Company_size_medium_size + Company_size_micro + Company_size_small + Language_German + Language_Italian + Language_Russian', data = df[df['Gender'] == 1]).fit()\n",
    "m4_1.summary()"
   ]
  },
  {
   "cell_type": "code",
   "execution_count": 110,
   "id": "0e276550",
   "metadata": {},
   "outputs": [
    {
     "data": {
      "text/plain": [
       "46.67897905028434"
      ]
     },
     "execution_count": 110,
     "metadata": {},
     "output_type": "execute_result"
    }
   ],
   "source": [
    "m4_1.ssr"
   ]
  },
  {
   "cell_type": "code",
   "execution_count": 111,
   "id": "60f2b330",
   "metadata": {},
   "outputs": [
    {
     "name": "stderr",
     "output_type": "stream",
     "text": [
      "/Users/monika/opt/anaconda3/lib/python3.9/site-packages/statsmodels/regression/linear_model.py:1918: RuntimeWarning: divide by zero encountered in double_scalars\n",
      "  return np.sqrt(eigvals[0]/eigvals[-1])\n"
     ]
    },
    {
     "data": {
      "text/html": [
       "<table class=\"simpletable\">\n",
       "<caption>OLS Regression Results</caption>\n",
       "<tr>\n",
       "  <th>Dep. Variable:</th>         <td>lSalary</td>     <th>  R-squared:         </th> <td>   0.355</td>\n",
       "</tr>\n",
       "<tr>\n",
       "  <th>Model:</th>                   <td>OLS</td>       <th>  Adj. R-squared:    </th> <td>   0.302</td>\n",
       "</tr>\n",
       "<tr>\n",
       "  <th>Method:</th>             <td>Least Squares</td>  <th>  F-statistic:       </th> <td>   6.663</td>\n",
       "</tr>\n",
       "<tr>\n",
       "  <th>Date:</th>             <td>Wed, 18 Jan 2023</td> <th>  Prob (F-statistic):</th> <td>1.95e-09</td>\n",
       "</tr>\n",
       "<tr>\n",
       "  <th>Time:</th>                 <td>23:49:25</td>     <th>  Log-Likelihood:    </th> <td>  29.841</td>\n",
       "</tr>\n",
       "<tr>\n",
       "  <th>No. Observations:</th>      <td>   158</td>      <th>  AIC:               </th> <td>  -33.68</td>\n",
       "</tr>\n",
       "<tr>\n",
       "  <th>Df Residuals:</th>          <td>   145</td>      <th>  BIC:               </th> <td>   6.133</td>\n",
       "</tr>\n",
       "<tr>\n",
       "  <th>Df Model:</th>              <td>    12</td>      <th>                     </th>     <td> </td>   \n",
       "</tr>\n",
       "<tr>\n",
       "  <th>Covariance Type:</th>      <td>nonrobust</td>    <th>                     </th>     <td> </td>   \n",
       "</tr>\n",
       "</table>\n",
       "<table class=\"simpletable\">\n",
       "<tr>\n",
       "              <td></td>                <th>coef</th>     <th>std err</th>      <th>t</th>      <th>P>|t|</th>  <th>[0.025</th>    <th>0.975]</th>  \n",
       "</tr>\n",
       "<tr>\n",
       "  <th>Intercept</th>                <td>   10.6123</td> <td>    0.327</td> <td>   32.422</td> <td> 0.000</td> <td>    9.965</td> <td>   11.259</td>\n",
       "</tr>\n",
       "<tr>\n",
       "  <th>Gender</th>                   <td>-5.003e-16</td> <td> 2.23e-16</td> <td>   -2.246</td> <td> 0.026</td> <td>-9.41e-16</td> <td>   -6e-17</td>\n",
       "</tr>\n",
       "<tr>\n",
       "  <th>lExperience</th>              <td>    0.0125</td> <td>    0.033</td> <td>    0.380</td> <td> 0.705</td> <td>   -0.053</td> <td>    0.078</td>\n",
       "</tr>\n",
       "<tr>\n",
       "  <th>Vacation_days</th>            <td>    0.0243</td> <td>    0.007</td> <td>    3.447</td> <td> 0.001</td> <td>    0.010</td> <td>    0.038</td>\n",
       "</tr>\n",
       "<tr>\n",
       "  <th>Seniority_level_Junior</th>   <td>   -0.5298</td> <td>    0.224</td> <td>   -2.370</td> <td> 0.019</td> <td>   -0.972</td> <td>   -0.088</td>\n",
       "</tr>\n",
       "<tr>\n",
       "  <th>Seniority_level_Lead</th>     <td>   -0.1640</td> <td>    0.225</td> <td>   -0.730</td> <td> 0.466</td> <td>   -0.608</td> <td>    0.280</td>\n",
       "</tr>\n",
       "<tr>\n",
       "  <th>Seniority_level_Middle</th>   <td>   -0.3621</td> <td>    0.216</td> <td>   -1.678</td> <td> 0.095</td> <td>   -0.788</td> <td>    0.064</td>\n",
       "</tr>\n",
       "<tr>\n",
       "  <th>Seniority_level_Senior</th>   <td>   -0.1956</td> <td>    0.217</td> <td>   -0.901</td> <td> 0.369</td> <td>   -0.625</td> <td>    0.233</td>\n",
       "</tr>\n",
       "<tr>\n",
       "  <th>Employment_status</th>        <td>    0.0334</td> <td>    0.111</td> <td>    0.302</td> <td> 0.763</td> <td>   -0.186</td> <td>    0.253</td>\n",
       "</tr>\n",
       "<tr>\n",
       "  <th>Company_size_large</th>       <td>   -0.0624</td> <td>    0.040</td> <td>   -1.569</td> <td> 0.119</td> <td>   -0.141</td> <td>    0.016</td>\n",
       "</tr>\n",
       "<tr>\n",
       "  <th>Company_size_medium_size</th> <td>   -0.1428</td> <td>    0.062</td> <td>   -2.318</td> <td> 0.022</td> <td>   -0.265</td> <td>   -0.021</td>\n",
       "</tr>\n",
       "<tr>\n",
       "  <th>Company_size_micro</th>       <td>   -0.0801</td> <td>    0.110</td> <td>   -0.730</td> <td> 0.466</td> <td>   -0.297</td> <td>    0.137</td>\n",
       "</tr>\n",
       "<tr>\n",
       "  <th>Company_size_small</th>       <td>   -0.1239</td> <td>    0.058</td> <td>   -2.149</td> <td> 0.033</td> <td>   -0.238</td> <td>   -0.010</td>\n",
       "</tr>\n",
       "<tr>\n",
       "  <th>Language_German</th>          <td>   -0.0563</td> <td>    0.043</td> <td>   -1.312</td> <td> 0.192</td> <td>   -0.141</td> <td>    0.029</td>\n",
       "</tr>\n",
       "<tr>\n",
       "  <th>Language_Italian</th>         <td>         0</td> <td>        0</td> <td>      nan</td> <td>   nan</td> <td>        0</td> <td>        0</td>\n",
       "</tr>\n",
       "<tr>\n",
       "  <th>Language_Russian</th>         <td>         0</td> <td>        0</td> <td>      nan</td> <td>   nan</td> <td>        0</td> <td>        0</td>\n",
       "</tr>\n",
       "</table>\n",
       "<table class=\"simpletable\">\n",
       "<tr>\n",
       "  <th>Omnibus:</th>       <td>61.492</td> <th>  Durbin-Watson:     </th> <td>   1.645</td>\n",
       "</tr>\n",
       "<tr>\n",
       "  <th>Prob(Omnibus):</th> <td> 0.000</td> <th>  Jarque-Bera (JB):  </th> <td> 217.803</td>\n",
       "</tr>\n",
       "<tr>\n",
       "  <th>Skew:</th>          <td>-1.472</td> <th>  Prob(JB):          </th> <td>5.07e-48</td>\n",
       "</tr>\n",
       "<tr>\n",
       "  <th>Kurtosis:</th>      <td> 7.942</td> <th>  Cond. No.          </th> <td>     inf</td>\n",
       "</tr>\n",
       "</table><br/><br/>Notes:<br/>[1] Standard Errors assume that the covariance matrix of the errors is correctly specified.<br/>[2] The smallest eigenvalue is      0. This might indicate that there are<br/>strong multicollinearity problems or that the design matrix is singular."
      ],
      "text/plain": [
       "<class 'statsmodels.iolib.summary.Summary'>\n",
       "\"\"\"\n",
       "                            OLS Regression Results                            \n",
       "==============================================================================\n",
       "Dep. Variable:                lSalary   R-squared:                       0.355\n",
       "Model:                            OLS   Adj. R-squared:                  0.302\n",
       "Method:                 Least Squares   F-statistic:                     6.663\n",
       "Date:                Wed, 18 Jan 2023   Prob (F-statistic):           1.95e-09\n",
       "Time:                        23:49:25   Log-Likelihood:                 29.841\n",
       "No. Observations:                 158   AIC:                            -33.68\n",
       "Df Residuals:                     145   BIC:                             6.133\n",
       "Df Model:                          12                                         \n",
       "Covariance Type:            nonrobust                                         \n",
       "============================================================================================\n",
       "                               coef    std err          t      P>|t|      [0.025      0.975]\n",
       "--------------------------------------------------------------------------------------------\n",
       "Intercept                   10.6123      0.327     32.422      0.000       9.965      11.259\n",
       "Gender                   -5.003e-16   2.23e-16     -2.246      0.026   -9.41e-16      -6e-17\n",
       "lExperience                  0.0125      0.033      0.380      0.705      -0.053       0.078\n",
       "Vacation_days                0.0243      0.007      3.447      0.001       0.010       0.038\n",
       "Seniority_level_Junior      -0.5298      0.224     -2.370      0.019      -0.972      -0.088\n",
       "Seniority_level_Lead        -0.1640      0.225     -0.730      0.466      -0.608       0.280\n",
       "Seniority_level_Middle      -0.3621      0.216     -1.678      0.095      -0.788       0.064\n",
       "Seniority_level_Senior      -0.1956      0.217     -0.901      0.369      -0.625       0.233\n",
       "Employment_status            0.0334      0.111      0.302      0.763      -0.186       0.253\n",
       "Company_size_large          -0.0624      0.040     -1.569      0.119      -0.141       0.016\n",
       "Company_size_medium_size    -0.1428      0.062     -2.318      0.022      -0.265      -0.021\n",
       "Company_size_micro          -0.0801      0.110     -0.730      0.466      -0.297       0.137\n",
       "Company_size_small          -0.1239      0.058     -2.149      0.033      -0.238      -0.010\n",
       "Language_German             -0.0563      0.043     -1.312      0.192      -0.141       0.029\n",
       "Language_Italian                  0          0        nan        nan           0           0\n",
       "Language_Russian                  0          0        nan        nan           0           0\n",
       "==============================================================================\n",
       "Omnibus:                       61.492   Durbin-Watson:                   1.645\n",
       "Prob(Omnibus):                  0.000   Jarque-Bera (JB):              217.803\n",
       "Skew:                          -1.472   Prob(JB):                     5.07e-48\n",
       "Kurtosis:                       7.942   Cond. No.                          inf\n",
       "==============================================================================\n",
       "\n",
       "Notes:\n",
       "[1] Standard Errors assume that the covariance matrix of the errors is correctly specified.\n",
       "[2] The smallest eigenvalue is      0. This might indicate that there are\n",
       "strong multicollinearity problems or that the design matrix is singular.\n",
       "\"\"\""
      ]
     },
     "execution_count": 111,
     "metadata": {},
     "output_type": "execute_result"
    }
   ],
   "source": [
    "m4_2 = smf.ols(formula = 'lSalary ~ Gender + lExperience + Vacation_days + Seniority_level_Junior + Seniority_level_Lead + Seniority_level_Middle + Seniority_level_Senior + Employment_status + Company_size_large + Company_size_medium_size + Company_size_micro + Company_size_small + Language_German + Language_Italian + Language_Russian', data = df[df['Gender'] == 0]).fit()\n",
    "m4_2.summary()"
   ]
  },
  {
   "cell_type": "code",
   "execution_count": 112,
   "id": "62ee5321",
   "metadata": {},
   "outputs": [
    {
     "data": {
      "text/plain": [
       "6.340698901326631"
      ]
     },
     "execution_count": 112,
     "metadata": {},
     "output_type": "execute_result"
    }
   ],
   "source": [
    "m4_2.ssr"
   ]
  },
  {
   "cell_type": "code",
   "execution_count": 113,
   "id": "41c80211",
   "metadata": {},
   "outputs": [
    {
     "data": {
      "text/plain": [
       "1068.0"
      ]
     },
     "execution_count": 113,
     "metadata": {},
     "output_type": "execute_result"
    }
   ],
   "source": [
    "m4.nobs"
   ]
  },
  {
   "cell_type": "code",
   "execution_count": 114,
   "id": "7a4d663d",
   "metadata": {},
   "outputs": [
    {
     "data": {
      "text/plain": [
       "16"
      ]
     },
     "execution_count": 114,
     "metadata": {},
     "output_type": "execute_result"
    }
   ],
   "source": [
    "len(m4.params)"
   ]
  },
  {
   "cell_type": "code",
   "execution_count": 115,
   "id": "fbe667da",
   "metadata": {},
   "outputs": [],
   "source": [
    "licznik = (m4.ssr - m4_1.ssr - m4_2.ssr)/len(m4.params)*(2-1)"
   ]
  },
  {
   "cell_type": "code",
   "execution_count": 117,
   "id": "19c55e7e",
   "metadata": {},
   "outputs": [],
   "source": [
    "mianownik = (m4_1.ssr + m4_2.ssr)/(m4.nobs - 2*len(m4.params))"
   ]
  },
  {
   "cell_type": "code",
   "execution_count": 118,
   "id": "6bd12ecc",
   "metadata": {},
   "outputs": [],
   "source": [
    "F = licznik/mianownik"
   ]
  },
  {
   "cell_type": "code",
   "execution_count": 119,
   "id": "3192d180",
   "metadata": {},
   "outputs": [
    {
     "data": {
      "text/plain": [
       "1.1203315720663922"
      ]
     },
     "execution_count": 119,
     "metadata": {},
     "output_type": "execute_result"
    }
   ],
   "source": [
    "F"
   ]
  },
  {
   "cell_type": "code",
   "execution_count": 120,
   "id": "8ebe470d",
   "metadata": {},
   "outputs": [],
   "source": [
    "import scipy.stats"
   ]
  },
  {
   "cell_type": "code",
   "execution_count": 121,
   "id": "c68f8b16",
   "metadata": {},
   "outputs": [
    {
     "data": {
      "text/plain": [
       "1.6532769196834838"
      ]
     },
     "execution_count": 121,
     "metadata": {},
     "output_type": "execute_result"
    }
   ],
   "source": [
    "scipy.stats.f.ppf(q = 1-0.05, dfn = len(m4.params)*(2-1), dfd = (m4.nobs - 2*len(m4.params)))"
   ]
  },
  {
   "cell_type": "markdown",
   "id": "ea46e6b2",
   "metadata": {},
   "source": [
    "(1.65; +niesk)"
   ]
  },
  {
   "cell_type": "markdown",
   "id": "9369b6ee",
   "metadata": {},
   "source": [
    "Nasza statytyka testowa nie wpada do obszaru krytycznego, więc brak podstaw do odrzucenia HO - parametry w podpróbkach są stabilne."
   ]
  },
  {
   "cell_type": "markdown",
   "id": "e53be5ef",
   "metadata": {},
   "source": [
    "Kolejne testy diagnostyczne: Normalność składnika losowego:"
   ]
  },
  {
   "cell_type": "markdown",
   "id": "1e273ab8",
   "metadata": {},
   "source": [
    "Graficznie:"
   ]
  },
  {
   "cell_type": "code",
   "execution_count": 165,
   "id": "255787a6",
   "metadata": {
    "scrolled": true
   },
   "outputs": [
    {
     "data": {
      "image/png": "[encoded data removed]",
      "text/plain": [
       "<Figure size 432x288 with 1 Axes>"
      ]
     },
     "metadata": {
      "needs_background": "light"
     },
     "output_type": "display_data"
    }
   ],
   "source": [
    "hist(m4.resid, bins = 20, color = 'pink', edgecolor = 'black')\n",
    "show()"
   ]
  },
  {
   "cell_type": "markdown",
   "id": "53420c10",
   "metadata": {},
   "source": [
    "Po lewej stronie wykresu na poziomie -1.5 widoczna wartość, która może wpływać na brak rozkładu normalnego składnika losowego."
   ]
  },
  {
   "cell_type": "code",
   "execution_count": 125,
   "id": "dfa3f537",
   "metadata": {},
   "outputs": [],
   "source": [
    "import statsmodels.api as sm"
   ]
  },
  {
   "cell_type": "code",
   "execution_count": 174,
   "id": "8afe15f0",
   "metadata": {},
   "outputs": [
    {
     "data": {
      "image/png": "[encoded data removed]",
      "text/plain": [
       "<Figure size 432x288 with 1 Axes>"
      ]
     },
     "metadata": {
      "needs_background": "light"
     },
     "output_type": "display_data"
    }
   ],
   "source": [
    "sm.qqplot(m4.resid, line = 'r')\n",
    "show()"
   ]
  },
  {
   "cell_type": "markdown",
   "id": "79a944ad",
   "metadata": {},
   "source": [
    "Wszystkie punkty powinny być równomiernie rozłożone na czerwonej lini - widoczne zaburzenia na obu końcach - jednak mamy dużą próbę, więc brak spełnienia założenia o normalności składnika losowego nie jest dla nas problemem."
   ]
  },
  {
   "cell_type": "markdown",
   "id": "ac57fdb9",
   "metadata": {},
   "source": [
    "Formalny test na normalność składnika losowego - Jargue-Bera:"
   ]
  },
  {
   "cell_type": "code",
   "execution_count": 127,
   "id": "e21c9516",
   "metadata": {},
   "outputs": [
    {
     "data": {
      "text/plain": [
       "(2433.220564617553, 0.0, -0.6873035040299572, 10.265643081312415)"
      ]
     },
     "execution_count": 127,
     "metadata": {},
     "output_type": "execute_result"
    }
   ],
   "source": [
    "test5 = sms.jarque_bera(m4.resid)\n",
    "test5"
   ]
  },
  {
   "cell_type": "code",
   "execution_count": 128,
   "id": "fec505d1",
   "metadata": {},
   "outputs": [],
   "source": [
    "nam2 = ['The Jarque-Bera test statistic', 'p-value', 'skewness', 'kurtosis']"
   ]
  },
  {
   "cell_type": "code",
   "execution_count": 129,
   "id": "b88f94ee",
   "metadata": {},
   "outputs": [
    {
     "data": {
      "text/plain": [
       "[('The Jarque-Bera test statistic', 2433.220564617553),\n",
       " ('p-value', 0.0),\n",
       " ('skewness', -0.6873035040299572),\n",
       " ('kurtosis', 10.265643081312415)]"
      ]
     },
     "execution_count": 129,
     "metadata": {},
     "output_type": "execute_result"
    }
   ],
   "source": [
    "lzip(nam2, test5)"
   ]
  },
  {
   "cell_type": "markdown",
   "id": "662d3c0b",
   "metadata": {},
   "source": [
    "Skośność powinna być równa 0 a kurtoza równa 3. W modelu wartości te przymuja wartość -0,69 oraz 10,27, co wskazuje na brak normalności składnika losowego.\n",
    "\n",
    "P-value równe 0 - odrzucamy hipotezę o normalności rozkładu reszt."
   ]
  },
  {
   "cell_type": "markdown",
   "id": "fa43f897",
   "metadata": {},
   "source": [
    "Kolejne testy diagnostyczne:"
   ]
  },
  {
   "cell_type": "markdown",
   "id": "b62efb81",
   "metadata": {},
   "source": [
    "Homoskedastyczność składnika losowego:"
   ]
  },
  {
   "cell_type": "markdown",
   "id": "15e44607",
   "metadata": {},
   "source": [
    "Graficznie:"
   ]
  },
  {
   "cell_type": "code",
   "execution_count": 86,
   "id": "1906ff1b",
   "metadata": {},
   "outputs": [],
   "source": [
    "from pylab import *"
   ]
  },
  {
   "cell_type": "code",
   "execution_count": 171,
   "id": "db92f895",
   "metadata": {},
   "outputs": [
    {
     "data": {
      "image/png": "[encoded data removed]",
      "text/plain": [
       "<Figure size 432x288 with 1 Axes>"
      ]
     },
     "metadata": {
      "needs_background": "light"
     },
     "output_type": "display_data"
    }
   ],
   "source": [
    "scatter(m4.fittedvalues, m4.resid)\n",
    "axhline(y = 0, color = 'pink')\n",
    "xlabel('fitted values')\n",
    "ylabel('residuals')\n",
    "show()"
   ]
  },
  {
   "cell_type": "markdown",
   "id": "4d1d72a4",
   "metadata": {},
   "source": [
    "Wartość oczekiwana reszt powinna być równa 0 - oczekujemy w miarę równo rozłożonych punktów wokół 0.\n",
    "\n",
    "Punkty na poziomie -1.5 mogą wskazywać na problem z homoskedastycznością."
   ]
  },
  {
   "cell_type": "code",
   "execution_count": 89,
   "id": "7cdf0434",
   "metadata": {},
   "outputs": [],
   "source": [
    "import seaborn as sns"
   ]
  },
  {
   "cell_type": "code",
   "execution_count": 90,
   "id": "733f77f6",
   "metadata": {},
   "outputs": [
    {
     "data": {
      "text/html": [
       "<div>\n",
       "<style scoped>\n",
       "    .dataframe tbody tr th:only-of-type {\n",
       "        vertical-align: middle;\n",
       "    }\n",
       "\n",
       "    .dataframe tbody tr th {\n",
       "        vertical-align: top;\n",
       "    }\n",
       "\n",
       "    .dataframe thead th {\n",
       "        text-align: right;\n",
       "    }\n",
       "</style>\n",
       "<table border=\"1\" class=\"dataframe\">\n",
       "  <thead>\n",
       "    <tr style=\"text-align: right;\">\n",
       "      <th></th>\n",
       "      <th>Date</th>\n",
       "      <th>Age</th>\n",
       "      <th>Gender</th>\n",
       "      <th>Position</th>\n",
       "      <th>Experience</th>\n",
       "      <th>Programming_language</th>\n",
       "      <th>Salary</th>\n",
       "      <th>Vacation_days</th>\n",
       "      <th>Employment_status</th>\n",
       "      <th>Contract_duration</th>\n",
       "      <th>...</th>\n",
       "      <th>Company_size_micro</th>\n",
       "      <th>Company_size_small</th>\n",
       "      <th>Language_German</th>\n",
       "      <th>Language_Italian</th>\n",
       "      <th>Language_Russian</th>\n",
       "      <th>Predictions</th>\n",
       "      <th>lSalary</th>\n",
       "      <th>lExperience</th>\n",
       "      <th>residuals</th>\n",
       "      <th>predictions</th>\n",
       "    </tr>\n",
       "  </thead>\n",
       "  <tbody>\n",
       "    <tr>\n",
       "      <th>0</th>\n",
       "      <td>24.11.2020 11:14</td>\n",
       "      <td>26</td>\n",
       "      <td>1</td>\n",
       "      <td>Software Engineer</td>\n",
       "      <td>5</td>\n",
       "      <td>TypeScript</td>\n",
       "      <td>80000</td>\n",
       "      <td>30</td>\n",
       "      <td>1</td>\n",
       "      <td>1</td>\n",
       "      <td>...</td>\n",
       "      <td>0</td>\n",
       "      <td>0</td>\n",
       "      <td>0</td>\n",
       "      <td>0</td>\n",
       "      <td>0</td>\n",
       "      <td>65305.499894</td>\n",
       "      <td>11.289782</td>\n",
       "      <td>1.609438</td>\n",
       "      <td>0.160297</td>\n",
       "      <td>11.129485</td>\n",
       "    </tr>\n",
       "    <tr>\n",
       "      <th>1</th>\n",
       "      <td>24.11.2020 11:14</td>\n",
       "      <td>26</td>\n",
       "      <td>1</td>\n",
       "      <td>Backend Developer</td>\n",
       "      <td>7</td>\n",
       "      <td>Ruby</td>\n",
       "      <td>80000</td>\n",
       "      <td>28</td>\n",
       "      <td>1</td>\n",
       "      <td>1</td>\n",
       "      <td>...</td>\n",
       "      <td>0</td>\n",
       "      <td>0</td>\n",
       "      <td>0</td>\n",
       "      <td>0</td>\n",
       "      <td>0</td>\n",
       "      <td>68372.980393</td>\n",
       "      <td>11.289782</td>\n",
       "      <td>1.945910</td>\n",
       "      <td>0.111440</td>\n",
       "      <td>11.178342</td>\n",
       "    </tr>\n",
       "    <tr>\n",
       "      <th>2</th>\n",
       "      <td>24.11.2020 11:14</td>\n",
       "      <td>29</td>\n",
       "      <td>1</td>\n",
       "      <td>Software Engineer</td>\n",
       "      <td>12</td>\n",
       "      <td>Javascript / Typescript</td>\n",
       "      <td>120000</td>\n",
       "      <td>30</td>\n",
       "      <td>0</td>\n",
       "      <td>0</td>\n",
       "      <td>...</td>\n",
       "      <td>0</td>\n",
       "      <td>0</td>\n",
       "      <td>0</td>\n",
       "      <td>0</td>\n",
       "      <td>0</td>\n",
       "      <td>76041.681640</td>\n",
       "      <td>11.695247</td>\n",
       "      <td>2.484907</td>\n",
       "      <td>0.134835</td>\n",
       "      <td>11.560412</td>\n",
       "    </tr>\n",
       "    <tr>\n",
       "      <th>3</th>\n",
       "      <td>24.11.2020 11:15</td>\n",
       "      <td>28</td>\n",
       "      <td>1</td>\n",
       "      <td>Frontend Developer</td>\n",
       "      <td>4</td>\n",
       "      <td>Javascript</td>\n",
       "      <td>54000</td>\n",
       "      <td>24</td>\n",
       "      <td>1</td>\n",
       "      <td>1</td>\n",
       "      <td>...</td>\n",
       "      <td>0</td>\n",
       "      <td>0</td>\n",
       "      <td>0</td>\n",
       "      <td>0</td>\n",
       "      <td>0</td>\n",
       "      <td>63771.759644</td>\n",
       "      <td>10.896739</td>\n",
       "      <td>1.386294</td>\n",
       "      <td>0.159694</td>\n",
       "      <td>10.737045</td>\n",
       "    </tr>\n",
       "    <tr>\n",
       "      <th>4</th>\n",
       "      <td>24.11.2020 11:15</td>\n",
       "      <td>37</td>\n",
       "      <td>1</td>\n",
       "      <td>Backend Developer</td>\n",
       "      <td>17</td>\n",
       "      <td>C# .NET</td>\n",
       "      <td>62000</td>\n",
       "      <td>29</td>\n",
       "      <td>1</td>\n",
       "      <td>1</td>\n",
       "      <td>...</td>\n",
       "      <td>0</td>\n",
       "      <td>0</td>\n",
       "      <td>0</td>\n",
       "      <td>0</td>\n",
       "      <td>0</td>\n",
       "      <td>83710.382888</td>\n",
       "      <td>11.034890</td>\n",
       "      <td>2.833213</td>\n",
       "      <td>-0.214277</td>\n",
       "      <td>11.249166</td>\n",
       "    </tr>\n",
       "  </tbody>\n",
       "</table>\n",
       "<p>5 rows × 26 columns</p>\n",
       "</div>"
      ],
      "text/plain": [
       "               Date  Age  Gender           Position   Experience  \\\n",
       "0  24.11.2020 11:14   26       1   Software Engineer           5   \n",
       "1  24.11.2020 11:14   26       1   Backend Developer           7   \n",
       "2  24.11.2020 11:14   29       1   Software Engineer          12   \n",
       "3  24.11.2020 11:15   28       1  Frontend Developer           4   \n",
       "4  24.11.2020 11:15   37       1   Backend Developer          17   \n",
       "\n",
       "      Programming_language  Salary  Vacation_days  Employment_status  \\\n",
       "0               TypeScript   80000             30                  1   \n",
       "1                     Ruby   80000             28                  1   \n",
       "2  Javascript / Typescript  120000             30                  0   \n",
       "3               Javascript   54000             24                  1   \n",
       "4                  C# .NET   62000             29                  1   \n",
       "\n",
       "   Contract_duration  ...  Company_size_micro  Company_size_small  \\\n",
       "0                  1  ...                   0                   0   \n",
       "1                  1  ...                   0                   0   \n",
       "2                  0  ...                   0                   0   \n",
       "3                  1  ...                   0                   0   \n",
       "4                  1  ...                   0                   0   \n",
       "\n",
       "   Language_German  Language_Italian  Language_Russian   Predictions  \\\n",
       "0                0                 0                 0  65305.499894   \n",
       "1                0                 0                 0  68372.980393   \n",
       "2                0                 0                 0  76041.681640   \n",
       "3                0                 0                 0  63771.759644   \n",
       "4                0                 0                 0  83710.382888   \n",
       "\n",
       "     lSalary  lExperience  residuals  predictions  \n",
       "0  11.289782     1.609438   0.160297    11.129485  \n",
       "1  11.289782     1.945910   0.111440    11.178342  \n",
       "2  11.695247     2.484907   0.134835    11.560412  \n",
       "3  10.896739     1.386294   0.159694    10.737045  \n",
       "4  11.034890     2.833213  -0.214277    11.249166  \n",
       "\n",
       "[5 rows x 26 columns]"
      ]
     },
     "execution_count": 90,
     "metadata": {},
     "output_type": "execute_result"
    }
   ],
   "source": [
    "df['residuals'] = m4.resid\n",
    "df['predictions'] = m4.predict()\n",
    "df.head()"
   ]
  },
  {
   "cell_type": "code",
   "execution_count": 91,
   "id": "04e8666a",
   "metadata": {},
   "outputs": [
    {
     "data": {
      "text/plain": [
       "<AxesSubplot:xlabel='predictions', ylabel='residuals'>"
      ]
     },
     "execution_count": 91,
     "metadata": {},
     "output_type": "execute_result"
    },
    {
     "data": {
      "image/png": "[encoded data removed]",
      "text/plain": [
       "<Figure size 432x288 with 1 Axes>"
      ]
     },
     "metadata": {
      "needs_background": "light"
     },
     "output_type": "display_data"
    }
   ],
   "source": [
    "sns.residplot(data = df, x = 'predictions' , y = 'residuals', lowess = True, line_kws = dict(color = 'g'))"
   ]
  },
  {
   "cell_type": "markdown",
   "id": "9b67b1af",
   "metadata": {},
   "source": [
    "Zielona linia wskazuje na wygładzony wykres rozrzutu. \n",
    "\n",
    "Oddalenie zielonej lini od lini kropkowanej może wskazywać na brak liniowości w modelu."
   ]
  },
  {
   "cell_type": "markdown",
   "id": "ef2f2465",
   "metadata": {},
   "source": [
    "Formalne testy statystyczne na weryfikację homoskedastyczności składnika losowego:"
   ]
  },
  {
   "cell_type": "markdown",
   "id": "10c7b444",
   "metadata": {},
   "source": [
    "Test Breuscha-Pagana:"
   ]
  },
  {
   "cell_type": "code",
   "execution_count": 94,
   "id": "919c27c3",
   "metadata": {},
   "outputs": [],
   "source": [
    "import statsmodels.stats.api as sms"
   ]
  },
  {
   "cell_type": "code",
   "execution_count": 95,
   "id": "f23eea35",
   "metadata": {},
   "outputs": [
    {
     "data": {
      "text/plain": [
       "(292.46403950110033,\n",
       " 2.0534689738592869e-53,\n",
       " 26.44813266576171,\n",
       " 4.949668166001137e-63)"
      ]
     },
     "execution_count": 95,
     "metadata": {},
     "output_type": "execute_result"
    }
   ],
   "source": [
    "test1 = sms.het_breuschpagan(m4.resid, m4.model.exog)\n",
    "test1"
   ]
  },
  {
   "cell_type": "code",
   "execution_count": 96,
   "id": "6f1bcdf9",
   "metadata": {},
   "outputs": [],
   "source": [
    "from statsmodels.compat import lzip"
   ]
  },
  {
   "cell_type": "code",
   "execution_count": 97,
   "id": "31c26341",
   "metadata": {},
   "outputs": [],
   "source": [
    "nam1 = ['lagrange multiplier statistic', 'p-value', 'f-value', 'f p-value']"
   ]
  },
  {
   "cell_type": "code",
   "execution_count": 98,
   "id": "053ab875",
   "metadata": {
    "scrolled": true
   },
   "outputs": [
    {
     "data": {
      "text/plain": [
       "[('lagrange multiplier statistic', 292.46403950110033),\n",
       " ('p-value', 2.0534689738592869e-53),\n",
       " ('f-value', 26.44813266576171),\n",
       " ('f p-value', 4.949668166001137e-63)]"
      ]
     },
     "execution_count": 98,
     "metadata": {},
     "output_type": "execute_result"
    }
   ],
   "source": [
    "lzip(nam1, test1)"
   ]
  },
  {
   "cell_type": "markdown",
   "id": "2147d2e3",
   "metadata": {},
   "source": [
    "Odrzucamy hipotezę zerową o homoskedastyczności na rzecz hipotezy alternatywnej. "
   ]
  },
  {
   "cell_type": "markdown",
   "id": "263d5334",
   "metadata": {},
   "source": [
    "Test White'a:"
   ]
  },
  {
   "cell_type": "code",
   "execution_count": 99,
   "id": "8301e766",
   "metadata": {},
   "outputs": [
    {
     "data": {
      "text/plain": [
       "(632.2863672631796,\n",
       " 5.770535199228782e-82,\n",
       " 15.563995442023906,\n",
       " 1.392747405287458e-135)"
      ]
     },
     "execution_count": 99,
     "metadata": {},
     "output_type": "execute_result"
    }
   ],
   "source": [
    "test2 = sms.het_white(m4.resid, m4.model.exog)\n",
    "test2"
   ]
  },
  {
   "cell_type": "code",
   "execution_count": 100,
   "id": "746efecf",
   "metadata": {},
   "outputs": [
    {
     "data": {
      "text/plain": [
       "[('lagrange multiplier statistic', 632.2863672631796),\n",
       " ('p-value', 5.770535199228782e-82),\n",
       " ('f-value', 15.563995442023906),\n",
       " ('f p-value', 1.392747405287458e-135)]"
      ]
     },
     "execution_count": 100,
     "metadata": {},
     "output_type": "execute_result"
    }
   ],
   "source": [
    "lzip(nam1, test2)"
   ]
  },
  {
   "cell_type": "code",
   "execution_count": null,
   "id": "7fba6480",
   "metadata": {},
   "outputs": [],
   "source": []
  },
  {
   "cell_type": "markdown",
   "id": "aba963b5",
   "metadata": {},
   "source": [
    "Próby rozwiązania problemu z heteroskedastycznością."
   ]
  },
  {
   "cell_type": "markdown",
   "id": "042c9ed3",
   "metadata": {},
   "source": [
    "Stosuje macierz odporną WHITE'A:"
   ]
  },
  {
   "cell_type": "code",
   "execution_count": 102,
   "id": "db1c2f2d",
   "metadata": {},
   "outputs": [
    {
     "data": {
      "text/html": [
       "<table class=\"simpletable\">\n",
       "<caption>OLS Regression Results</caption>\n",
       "<tr>\n",
       "  <th>Dep. Variable:</th>         <td>lSalary</td>     <th>  R-squared:         </th> <td>   0.459</td> \n",
       "</tr>\n",
       "<tr>\n",
       "  <th>Model:</th>                   <td>OLS</td>       <th>  Adj. R-squared:    </th> <td>   0.452</td> \n",
       "</tr>\n",
       "<tr>\n",
       "  <th>Method:</th>             <td>Least Squares</td>  <th>  F-statistic:       </th> <td>   47.13</td> \n",
       "</tr>\n",
       "<tr>\n",
       "  <th>Date:</th>             <td>Wed, 18 Jan 2023</td> <th>  Prob (F-statistic):</th> <td>2.78e-106</td>\n",
       "</tr>\n",
       "<tr>\n",
       "  <th>Time:</th>                 <td>23:00:45</td>     <th>  Log-Likelihood:    </th> <td>  78.951</td> \n",
       "</tr>\n",
       "<tr>\n",
       "  <th>No. Observations:</th>      <td>  1068</td>      <th>  AIC:               </th> <td>  -125.9</td> \n",
       "</tr>\n",
       "<tr>\n",
       "  <th>Df Residuals:</th>          <td>  1052</td>      <th>  BIC:               </th> <td>  -46.33</td> \n",
       "</tr>\n",
       "<tr>\n",
       "  <th>Df Model:</th>              <td>    15</td>      <th>                     </th>     <td> </td>    \n",
       "</tr>\n",
       "<tr>\n",
       "  <th>Covariance Type:</th>         <td>HC0</td>       <th>                     </th>     <td> </td>    \n",
       "</tr>\n",
       "</table>\n",
       "<table class=\"simpletable\">\n",
       "<tr>\n",
       "              <td></td>                <th>coef</th>     <th>std err</th>      <th>z</th>      <th>P>|z|</th>  <th>[0.025</th>    <th>0.975]</th>  \n",
       "</tr>\n",
       "<tr>\n",
       "  <th>Intercept</th>                <td>   11.1849</td> <td>    0.230</td> <td>   48.614</td> <td> 0.000</td> <td>   10.734</td> <td>   11.636</td>\n",
       "</tr>\n",
       "<tr>\n",
       "  <th>Gender</th>                   <td>    0.0864</td> <td>    0.019</td> <td>    4.563</td> <td> 0.000</td> <td>    0.049</td> <td>    0.123</td>\n",
       "</tr>\n",
       "<tr>\n",
       "  <th>lExperience</th>              <td>    0.0683</td> <td>    0.015</td> <td>    4.580</td> <td> 0.000</td> <td>    0.039</td> <td>    0.098</td>\n",
       "</tr>\n",
       "<tr>\n",
       "  <th>Vacation_days</th>            <td>    0.0102</td> <td>    0.005</td> <td>    2.118</td> <td> 0.034</td> <td>    0.001</td> <td>    0.020</td>\n",
       "</tr>\n",
       "<tr>\n",
       "  <th>Seniority_level_Junior</th>   <td>   -0.5721</td> <td>    0.063</td> <td>   -9.056</td> <td> 0.000</td> <td>   -0.696</td> <td>   -0.448</td>\n",
       "</tr>\n",
       "<tr>\n",
       "  <th>Seniority_level_Lead</th>     <td>   -0.1085</td> <td>    0.044</td> <td>   -2.454</td> <td> 0.014</td> <td>   -0.195</td> <td>   -0.022</td>\n",
       "</tr>\n",
       "<tr>\n",
       "  <th>Seniority_level_Middle</th>   <td>   -0.4245</td> <td>    0.043</td> <td>   -9.916</td> <td> 0.000</td> <td>   -0.508</td> <td>   -0.341</td>\n",
       "</tr>\n",
       "<tr>\n",
       "  <th>Seniority_level_Senior</th>   <td>   -0.2563</td> <td>    0.041</td> <td>   -6.284</td> <td> 0.000</td> <td>   -0.336</td> <td>   -0.176</td>\n",
       "</tr>\n",
       "<tr>\n",
       "  <th>Employment_status</th>        <td>   -0.1770</td> <td>    0.137</td> <td>   -1.289</td> <td> 0.197</td> <td>   -0.446</td> <td>    0.092</td>\n",
       "</tr>\n",
       "<tr>\n",
       "  <th>Company_size_large</th>       <td>   -0.0788</td> <td>    0.015</td> <td>   -5.362</td> <td> 0.000</td> <td>   -0.108</td> <td>   -0.050</td>\n",
       "</tr>\n",
       "<tr>\n",
       "  <th>Company_size_medium_size</th> <td>   -0.1251</td> <td>    0.022</td> <td>   -5.719</td> <td> 0.000</td> <td>   -0.168</td> <td>   -0.082</td>\n",
       "</tr>\n",
       "<tr>\n",
       "  <th>Company_size_micro</th>       <td>   -0.2173</td> <td>    0.056</td> <td>   -3.862</td> <td> 0.000</td> <td>   -0.328</td> <td>   -0.107</td>\n",
       "</tr>\n",
       "<tr>\n",
       "  <th>Company_size_small</th>       <td>   -0.1362</td> <td>    0.025</td> <td>   -5.401</td> <td> 0.000</td> <td>   -0.186</td> <td>   -0.087</td>\n",
       "</tr>\n",
       "<tr>\n",
       "  <th>Language_German</th>          <td>   -0.0577</td> <td>    0.020</td> <td>   -2.852</td> <td> 0.004</td> <td>   -0.097</td> <td>   -0.018</td>\n",
       "</tr>\n",
       "<tr>\n",
       "  <th>Language_Italian</th>         <td>   -0.5569</td> <td>    0.103</td> <td>   -5.413</td> <td> 0.000</td> <td>   -0.759</td> <td>   -0.355</td>\n",
       "</tr>\n",
       "<tr>\n",
       "  <th>Language_Russian</th>         <td>   -0.4983</td> <td>    0.205</td> <td>   -2.435</td> <td> 0.015</td> <td>   -0.899</td> <td>   -0.097</td>\n",
       "</tr>\n",
       "</table>\n",
       "<table class=\"simpletable\">\n",
       "<tr>\n",
       "  <th>Omnibus:</th>       <td>233.643</td> <th>  Durbin-Watson:     </th> <td>   2.150</td>\n",
       "</tr>\n",
       "<tr>\n",
       "  <th>Prob(Omnibus):</th> <td> 0.000</td>  <th>  Jarque-Bera (JB):  </th> <td>2433.221</td>\n",
       "</tr>\n",
       "<tr>\n",
       "  <th>Skew:</th>          <td>-0.687</td>  <th>  Prob(JB):          </th> <td>    0.00</td>\n",
       "</tr>\n",
       "<tr>\n",
       "  <th>Kurtosis:</th>      <td>10.266</td>  <th>  Cond. No.          </th> <td>    546.</td>\n",
       "</tr>\n",
       "</table><br/><br/>Notes:<br/>[1] Standard Errors are heteroscedasticity robust (HC0)"
      ],
      "text/plain": [
       "<class 'statsmodels.iolib.summary.Summary'>\n",
       "\"\"\"\n",
       "                            OLS Regression Results                            \n",
       "==============================================================================\n",
       "Dep. Variable:                lSalary   R-squared:                       0.459\n",
       "Model:                            OLS   Adj. R-squared:                  0.452\n",
       "Method:                 Least Squares   F-statistic:                     47.13\n",
       "Date:                Wed, 18 Jan 2023   Prob (F-statistic):          2.78e-106\n",
       "Time:                        23:00:45   Log-Likelihood:                 78.951\n",
       "No. Observations:                1068   AIC:                            -125.9\n",
       "Df Residuals:                    1052   BIC:                            -46.33\n",
       "Df Model:                          15                                         \n",
       "Covariance Type:                  HC0                                         \n",
       "============================================================================================\n",
       "                               coef    std err          z      P>|z|      [0.025      0.975]\n",
       "--------------------------------------------------------------------------------------------\n",
       "Intercept                   11.1849      0.230     48.614      0.000      10.734      11.636\n",
       "Gender                       0.0864      0.019      4.563      0.000       0.049       0.123\n",
       "lExperience                  0.0683      0.015      4.580      0.000       0.039       0.098\n",
       "Vacation_days                0.0102      0.005      2.118      0.034       0.001       0.020\n",
       "Seniority_level_Junior      -0.5721      0.063     -9.056      0.000      -0.696      -0.448\n",
       "Seniority_level_Lead        -0.1085      0.044     -2.454      0.014      -0.195      -0.022\n",
       "Seniority_level_Middle      -0.4245      0.043     -9.916      0.000      -0.508      -0.341\n",
       "Seniority_level_Senior      -0.2563      0.041     -6.284      0.000      -0.336      -0.176\n",
       "Employment_status           -0.1770      0.137     -1.289      0.197      -0.446       0.092\n",
       "Company_size_large          -0.0788      0.015     -5.362      0.000      -0.108      -0.050\n",
       "Company_size_medium_size    -0.1251      0.022     -5.719      0.000      -0.168      -0.082\n",
       "Company_size_micro          -0.2173      0.056     -3.862      0.000      -0.328      -0.107\n",
       "Company_size_small          -0.1362      0.025     -5.401      0.000      -0.186      -0.087\n",
       "Language_German             -0.0577      0.020     -2.852      0.004      -0.097      -0.018\n",
       "Language_Italian            -0.5569      0.103     -5.413      0.000      -0.759      -0.355\n",
       "Language_Russian            -0.4983      0.205     -2.435      0.015      -0.899      -0.097\n",
       "==============================================================================\n",
       "Omnibus:                      233.643   Durbin-Watson:                   2.150\n",
       "Prob(Omnibus):                  0.000   Jarque-Bera (JB):             2433.221\n",
       "Skew:                          -0.687   Prob(JB):                         0.00\n",
       "Kurtosis:                      10.266   Cond. No.                         546.\n",
       "==============================================================================\n",
       "\n",
       "Notes:\n",
       "[1] Standard Errors are heteroscedasticity robust (HC0)\n",
       "\"\"\""
      ]
     },
     "execution_count": 102,
     "metadata": {},
     "output_type": "execute_result"
    }
   ],
   "source": [
    "m5 = smf.ols(formula = 'lSalary ~ Gender + lExperience + Vacation_days + Seniority_level_Junior + Seniority_level_Lead + Seniority_level_Middle + Seniority_level_Senior + Employment_status + Company_size_large + Company_size_medium_size + Company_size_micro + Company_size_small + Language_German + Language_Italian + Language_Russian', data = df).fit(cov_type = 'HC0')\n",
    "m5.summary()"
   ]
  },
  {
   "cell_type": "code",
   "execution_count": 103,
   "id": "01a3cebb",
   "metadata": {},
   "outputs": [],
   "source": [
    "from stargazer.stargazer import Stargazer"
   ]
  },
  {
   "cell_type": "code",
   "execution_count": 104,
   "id": "19e77694",
   "metadata": {
    "scrolled": false
   },
   "outputs": [
    {
     "data": {
      "text/html": [
       "<table style=\"text-align:center\"><tr><td colspan=\"6\" style=\"border-bottom: 1px solid black\"></td></tr><tr><td style=\"text-align:left\"></td><tr><td style=\"text-align:left\"></td><td>(1)</td><td>(2)</td><td>(3)</td><td>(4)</td><td>(5)</td></tr><tr><td colspan=\"6\" style=\"border-bottom: 1px solid black\"></td></tr><tr><td style=\"text-align:left\">Age</td><td>-120.105<sup></sup></td><td></td><td></td><td></td><td></td></tr><tr><td style=\"text-align:left\"></td><td>(140.021)</td><td></td><td></td><td></td><td></td></tr><tr><td style=\"text-align:left\">Company_size_large</td><td>-6947.879<sup>***</sup></td><td>-7006.682<sup>***</sup></td><td>-7000.901<sup>***</sup></td><td>-0.079<sup>***</sup></td><td>-0.079<sup>***</sup></td></tr><tr><td style=\"text-align:left\"></td><td>(1233.768)</td><td>(1231.707)</td><td>(1231.695)</td><td>(0.017)</td><td>(0.015)</td></tr><tr><td style=\"text-align:left\">Company_size_medium_size</td><td>-9779.558<sup>***</sup></td><td>-9884.171<sup>***</sup></td><td>-9921.031<sup>***</sup></td><td>-0.125<sup>***</sup></td><td>-0.125<sup>***</sup></td></tr><tr><td style=\"text-align:left\"></td><td>(1728.715)</td><td>(1724.191)</td><td>(1723.799)</td><td>(0.023)</td><td>(0.022)</td></tr><tr><td style=\"text-align:left\">Company_size_micro</td><td>-13710.975<sup>***</sup></td><td>-13757.721<sup>***</sup></td><td>-14024.992<sup>***</sup></td><td>-0.217<sup>***</sup></td><td>-0.217<sup>***</sup></td></tr><tr><td style=\"text-align:left\"></td><td>(2812.454)</td><td>(2811.572)</td><td>(2798.868)</td><td>(0.038)</td><td>(0.056)</td></tr><tr><td style=\"text-align:left\">Company_size_small</td><td>-9727.631<sup>***</sup></td><td>-9756.263<sup>***</sup></td><td>-9807.435<sup>***</sup></td><td>-0.136<sup>***</sup></td><td>-0.136<sup>***</sup></td></tr><tr><td style=\"text-align:left\"></td><td>(1651.344)</td><td>(1650.799)</td><td>(1650.009)</td><td>(0.022)</td><td>(0.025)</td></tr><tr><td style=\"text-align:left\">Contract_duration</td><td>2638.705<sup></sup></td><td>2651.762<sup></sup></td><td></td><td></td><td></td></tr><tr><td style=\"text-align:left\"></td><td>(2649.449)</td><td>(2649.072)</td><td></td><td></td><td></td></tr><tr><td style=\"text-align:left\">Employment_status</td><td>-29576.980<sup>***</sup></td><td>-29650.595<sup>***</sup></td><td>-28483.563<sup>***</sup></td><td>-0.177<sup>***</sup></td><td>-0.177<sup></sup></td></tr><tr><td style=\"text-align:left\"></td><td>(3908.002)</td><td>(3906.568)</td><td>(3728.552)</td><td>(0.050)</td><td>(0.137)</td></tr><tr><td style=\"text-align:left\">Experience</td><td>502.486<sup>***</sup></td><td>412.614<sup>***</sup></td><td>416.333<sup>***</sup></td><td></td><td></td></tr><tr><td style=\"text-align:left\"></td><td>(158.474)</td><td>(118.882)</td><td>(118.824)</td><td></td><td></td></tr><tr><td style=\"text-align:left\">Gender</td><td>6703.095<sup>***</sup></td><td>6760.308<sup>***</sup></td><td>6726.582<sup>***</sup></td><td>0.086<sup>***</sup></td><td>0.086<sup>***</sup></td></tr><tr><td style=\"text-align:left\"></td><td>(1515.309)</td><td>(1513.650)</td><td>(1513.277)</td><td>(0.021)</td><td>(0.019)</td></tr><tr><td style=\"text-align:left\">Intercept</td><td>109496.950<sup>***</sup></td><td>106631.243<sup>***</sup></td><td>108171.024<sup>***</sup></td><td>11.185<sup>***</sup></td><td>11.185<sup>***</sup></td></tr><tr><td style=\"text-align:left\"></td><td>(7244.397)</td><td>(6427.232)</td><td>(6240.454)</td><td>(0.088)</td><td>(0.230)</td></tr><tr><td style=\"text-align:left\">Language_German</td><td>-4249.372<sup>***</sup></td><td>-4483.185<sup>***</sup></td><td>-4472.503<sup>***</sup></td><td>-0.058<sup>***</sup></td><td>-0.058<sup>***</sup></td></tr><tr><td style=\"text-align:left\"></td><td>(1526.815)</td><td>(1502.096)</td><td>(1502.060)</td><td>(0.020)</td><td>(0.020)</td></tr><tr><td style=\"text-align:left\">Language_Italian</td><td>-31043.030<sup>***</sup></td><td>-31018.941<sup>***</sup></td><td>-31820.048<sup>***</sup></td><td>-0.557<sup>***</sup></td><td>-0.557<sup>***</sup></td></tr><tr><td style=\"text-align:left\"></td><td>(9814.657)</td><td>(9813.383)</td><td>(9780.706)</td><td>(0.132)</td><td>(0.103)</td></tr><tr><td style=\"text-align:left\">Language_Russian</td><td>-17959.348<sup>***</sup></td><td>-18220.799<sup>***</sup></td><td>-18110.048<sup>***</sup></td><td>-0.498<sup>***</sup></td><td>-0.498<sup>**</sup></td></tr><tr><td style=\"text-align:left\"></td><td>(5360.789)</td><td>(5351.444)</td><td>(5350.305)</td><td>(0.072)</td><td>(0.205)</td></tr><tr><td style=\"text-align:left\">Seniority_level_Junior</td><td>-42118.615<sup>***</sup></td><td>-42039.388<sup>***</sup></td><td>-42330.878<sup>***</sup></td><td>-0.572<sup>***</sup></td><td>-0.572<sup>***</sup></td></tr><tr><td style=\"text-align:left\"></td><td>(3735.432)</td><td>(3733.821)</td><td>(3722.452)</td><td>(0.053)</td><td>(0.063)</td></tr><tr><td style=\"text-align:left\">Seniority_level_Lead</td><td>-8601.550<sup>***</sup></td><td>-8502.673<sup>***</sup></td><td>-8637.742<sup>***</sup></td><td>-0.108<sup>***</sup></td><td>-0.108<sup>**</sup></td></tr><tr><td style=\"text-align:left\"></td><td>(3098.480)</td><td>(3095.946)</td><td>(3093.007)</td><td>(0.042)</td><td>(0.044)</td></tr><tr><td style=\"text-align:left\">Seniority_level_Middle</td><td>-33124.761<sup>***</sup></td><td>-33015.942<sup>***</sup></td><td>-33206.249<sup>***</sup></td><td>-0.425<sup>***</sup></td><td>-0.425<sup>***</sup></td></tr><tr><td style=\"text-align:left\"></td><td>(3051.928)</td><td>(3048.907)</td><td>(3042.976)</td><td>(0.041)</td><td>(0.043)</td></tr><tr><td style=\"text-align:left\">Seniority_level_Senior</td><td>-21816.518<sup>***</sup></td><td>-21741.039<sup>***</sup></td><td>-21911.991<sup>***</sup></td><td>-0.256<sup>***</sup></td><td>-0.256<sup>***</sup></td></tr><tr><td style=\"text-align:left\"></td><td>(2891.619)</td><td>(2889.917)</td><td>(2884.869)</td><td>(0.039)</td><td>(0.041)</td></tr><tr><td style=\"text-align:left\">Vacation_days</td><td>427.238<sup>***</sup></td><td>418.640<sup>***</sup></td><td>419.996<sup>***</sup></td><td>0.010<sup>***</sup></td><td>0.010<sup>**</sup></td></tr><tr><td style=\"text-align:left\"></td><td>(150.507)</td><td>(150.154)</td><td>(150.148)</td><td>(0.002)</td><td>(0.005)</td></tr><tr><td style=\"text-align:left\">lExperience</td><td></td><td></td><td></td><td>0.068<sup>***</sup></td><td>0.068<sup>***</sup></td></tr><tr><td style=\"text-align:left\"></td><td></td><td></td><td></td><td>(0.014)</td><td>(0.015)</td></tr><td colspan=\"6\" style=\"border-bottom: 1px solid black\"></td></tr><tr><td style=\"text-align: left\">Observations</td><td>1,068</td><td>1,068</td><td>1,068</td><td>1,068</td><td>1,068</td></tr><tr><td style=\"text-align: left\">R<sup>2</sup></td><td>0.417</td><td>0.417</td><td>0.416</td><td>0.459</td><td>0.459</td></tr><tr><td style=\"text-align: left\">Adjusted R<sup>2</sup></td><td>0.408</td><td>0.408</td><td>0.408</td><td>0.452</td><td>0.452</td></tr><tr><td style=\"text-align: left\">Residual Std. Error</td><td>16735.187 (df=1050)</td><td>16733.083 (df=1051)</td><td>16733.099 (df=1052)</td><td>0.226 (df=1052)</td><td>0.226 (df=1052)</td></tr><tr><td style=\"text-align: left\">F Statistic</td><td>44.230<sup>***</sup> (df=17; 1050)</td><td>46.960<sup>***</sup> (df=16; 1051)</td><td>50.024<sup>***</sup> (df=15; 1052)</td><td>59.555<sup>***</sup> (df=15; 1052)</td><td>47.131<sup>***</sup> (df=15; 1052)</td></tr><tr><td colspan=\"6\" style=\"border-bottom: 1px solid black\"></td></tr><tr><td style=\"text-align: left\">Note:</td>\n",
       " <td colspan=\"5\" style=\"text-align: right\">\n",
       "  <sup>*</sup>p&lt;0.1;\n",
       "  <sup>**</sup>p&lt;0.05;\n",
       "  <sup>***</sup>p&lt;0.01\n",
       " </td></tr></table>"
      ],
      "text/plain": [
       "<stargazer.stargazer.Stargazer at 0x7fc9481de6d0>"
      ]
     },
     "execution_count": 104,
     "metadata": {},
     "output_type": "execute_result"
    }
   ],
   "source": [
    "Stargazer([m1, m2, m3, m4, m5])"
   ]
  },
  {
   "cell_type": "markdown",
   "id": "e1bcf1b2",
   "metadata": {},
   "source": [
    "Obserwacje nietypowe i błędne:"
   ]
  },
  {
   "cell_type": "code",
   "execution_count": 130,
   "id": "b64cd01e",
   "metadata": {},
   "outputs": [],
   "source": [
    "import matplotlib.pyplot as plt"
   ]
  },
  {
   "cell_type": "code",
   "execution_count": 150,
   "id": "41155937",
   "metadata": {},
   "outputs": [],
   "source": [
    "plt.rc('figure', figsize = (6,4))"
   ]
  },
  {
   "cell_type": "code",
   "execution_count": 133,
   "id": "cd887702",
   "metadata": {
    "scrolled": true
   },
   "outputs": [
    {
     "data": {
      "image/png": "[encoded data removed]",
      "text/plain": [
       "<Figure size 864x576 with 1 Axes>"
      ]
     },
     "metadata": {
      "needs_background": "light"
     },
     "output_type": "display_data"
    }
   ],
   "source": [
    "sm.graphics.influence_plot(m4, criterion = 'Cooks')\n",
    "show()"
   ]
  },
  {
   "cell_type": "code",
   "execution_count": 134,
   "id": "2b743c4c",
   "metadata": {},
   "outputs": [
    {
     "data": {
      "text/plain": [
       "0.03"
      ]
     },
     "execution_count": 134,
     "metadata": {},
     "output_type": "execute_result"
    }
   ],
   "source": [
    "h_lev = (2*len(m4.params))/m4.nobs\n",
    "round(h_lev, 2)"
   ]
  },
  {
   "cell_type": "code",
   "execution_count": 137,
   "id": "a4c27499",
   "metadata": {},
   "outputs": [
    {
     "data": {
      "image/png": "[encoded data removed]",
      "text/plain": [
       "<Figure size 1080x720 with 1 Axes>"
      ]
     },
     "metadata": {
      "needs_background": "light"
     },
     "output_type": "display_data"
    }
   ],
   "source": [
    "sm.graphics.influence_plot(m4, criterion = 'Cooks')\n",
    "axvline(x = round(h_lev, 2), color = 'g')\n",
    "axhline(y=2, color = 'r')\n",
    "axhline(y=-2, color = 'r')\n",
    "show()"
   ]
  },
  {
   "cell_type": "markdown",
   "id": "26f7a1b1",
   "metadata": {},
   "source": [
    "Obserwacjami nietypowymi okazują się kilka obserwacji - 9 w dolnej części wykresu oraz 10 w górnej części wykresu\n",
    "\n",
    "Obserwacje nietypowe ze wzgledu na wysokie reszty. Należy im się dokładnie przyjżeć "
   ]
  },
  {
   "cell_type": "markdown",
   "id": "c1fe50bb",
   "metadata": {},
   "source": [
    "Sprawdzenie współliniowości:"
   ]
  },
  {
   "cell_type": "code",
   "execution_count": 138,
   "id": "15c31393",
   "metadata": {},
   "outputs": [
    {
     "data": {
      "text/html": [
       "<table class=\"simpletable\">\n",
       "<caption>OLS Regression Results</caption>\n",
       "<tr>\n",
       "  <th>Dep. Variable:</th>         <td>lSalary</td>     <th>  R-squared:         </th> <td>   0.459</td> \n",
       "</tr>\n",
       "<tr>\n",
       "  <th>Model:</th>                   <td>OLS</td>       <th>  Adj. R-squared:    </th> <td>   0.452</td> \n",
       "</tr>\n",
       "<tr>\n",
       "  <th>Method:</th>             <td>Least Squares</td>  <th>  F-statistic:       </th> <td>   59.56</td> \n",
       "</tr>\n",
       "<tr>\n",
       "  <th>Date:</th>             <td>Thu, 19 Jan 2023</td> <th>  Prob (F-statistic):</th> <td>6.52e-129</td>\n",
       "</tr>\n",
       "<tr>\n",
       "  <th>Time:</th>                 <td>00:26:49</td>     <th>  Log-Likelihood:    </th> <td>  78.951</td> \n",
       "</tr>\n",
       "<tr>\n",
       "  <th>No. Observations:</th>      <td>  1068</td>      <th>  AIC:               </th> <td>  -125.9</td> \n",
       "</tr>\n",
       "<tr>\n",
       "  <th>Df Residuals:</th>          <td>  1052</td>      <th>  BIC:               </th> <td>  -46.33</td> \n",
       "</tr>\n",
       "<tr>\n",
       "  <th>Df Model:</th>              <td>    15</td>      <th>                     </th>     <td> </td>    \n",
       "</tr>\n",
       "<tr>\n",
       "  <th>Covariance Type:</th>      <td>nonrobust</td>    <th>                     </th>     <td> </td>    \n",
       "</tr>\n",
       "</table>\n",
       "<table class=\"simpletable\">\n",
       "<tr>\n",
       "              <td></td>                <th>coef</th>     <th>std err</th>      <th>t</th>      <th>P>|t|</th>  <th>[0.025</th>    <th>0.975]</th>  \n",
       "</tr>\n",
       "<tr>\n",
       "  <th>Intercept</th>                <td>   11.1849</td> <td>    0.088</td> <td>  127.011</td> <td> 0.000</td> <td>   11.012</td> <td>   11.358</td>\n",
       "</tr>\n",
       "<tr>\n",
       "  <th>Gender</th>                   <td>    0.0864</td> <td>    0.021</td> <td>    4.213</td> <td> 0.000</td> <td>    0.046</td> <td>    0.127</td>\n",
       "</tr>\n",
       "<tr>\n",
       "  <th>lExperience</th>              <td>    0.0683</td> <td>    0.014</td> <td>    4.779</td> <td> 0.000</td> <td>    0.040</td> <td>    0.096</td>\n",
       "</tr>\n",
       "<tr>\n",
       "  <th>Vacation_days</th>            <td>    0.0102</td> <td>    0.002</td> <td>    5.028</td> <td> 0.000</td> <td>    0.006</td> <td>    0.014</td>\n",
       "</tr>\n",
       "<tr>\n",
       "  <th>Seniority_level_Junior</th>   <td>   -0.5721</td> <td>    0.053</td> <td>  -10.785</td> <td> 0.000</td> <td>   -0.676</td> <td>   -0.468</td>\n",
       "</tr>\n",
       "<tr>\n",
       "  <th>Seniority_level_Lead</th>     <td>   -0.1085</td> <td>    0.042</td> <td>   -2.592</td> <td> 0.010</td> <td>   -0.191</td> <td>   -0.026</td>\n",
       "</tr>\n",
       "<tr>\n",
       "  <th>Seniority_level_Middle</th>   <td>   -0.4245</td> <td>    0.041</td> <td>  -10.281</td> <td> 0.000</td> <td>   -0.506</td> <td>   -0.343</td>\n",
       "</tr>\n",
       "<tr>\n",
       "  <th>Seniority_level_Senior</th>   <td>   -0.2563</td> <td>    0.039</td> <td>   -6.582</td> <td> 0.000</td> <td>   -0.333</td> <td>   -0.180</td>\n",
       "</tr>\n",
       "<tr>\n",
       "  <th>Employment_status</th>        <td>   -0.1770</td> <td>    0.050</td> <td>   -3.508</td> <td> 0.000</td> <td>   -0.276</td> <td>   -0.078</td>\n",
       "</tr>\n",
       "<tr>\n",
       "  <th>Company_size_large</th>       <td>   -0.0788</td> <td>    0.017</td> <td>   -4.726</td> <td> 0.000</td> <td>   -0.111</td> <td>   -0.046</td>\n",
       "</tr>\n",
       "<tr>\n",
       "  <th>Company_size_medium_size</th> <td>   -0.1251</td> <td>    0.023</td> <td>   -5.364</td> <td> 0.000</td> <td>   -0.171</td> <td>   -0.079</td>\n",
       "</tr>\n",
       "<tr>\n",
       "  <th>Company_size_micro</th>       <td>   -0.2173</td> <td>    0.038</td> <td>   -5.727</td> <td> 0.000</td> <td>   -0.292</td> <td>   -0.143</td>\n",
       "</tr>\n",
       "<tr>\n",
       "  <th>Company_size_small</th>       <td>   -0.1362</td> <td>    0.022</td> <td>   -6.102</td> <td> 0.000</td> <td>   -0.180</td> <td>   -0.092</td>\n",
       "</tr>\n",
       "<tr>\n",
       "  <th>Language_German</th>          <td>   -0.0577</td> <td>    0.020</td> <td>   -2.859</td> <td> 0.004</td> <td>   -0.097</td> <td>   -0.018</td>\n",
       "</tr>\n",
       "<tr>\n",
       "  <th>Language_Italian</th>         <td>   -0.5569</td> <td>    0.132</td> <td>   -4.209</td> <td> 0.000</td> <td>   -0.817</td> <td>   -0.297</td>\n",
       "</tr>\n",
       "<tr>\n",
       "  <th>Language_Russian</th>         <td>   -0.4983</td> <td>    0.072</td> <td>   -6.880</td> <td> 0.000</td> <td>   -0.640</td> <td>   -0.356</td>\n",
       "</tr>\n",
       "</table>\n",
       "<table class=\"simpletable\">\n",
       "<tr>\n",
       "  <th>Omnibus:</th>       <td>233.643</td> <th>  Durbin-Watson:     </th> <td>   2.150</td>\n",
       "</tr>\n",
       "<tr>\n",
       "  <th>Prob(Omnibus):</th> <td> 0.000</td>  <th>  Jarque-Bera (JB):  </th> <td>2433.221</td>\n",
       "</tr>\n",
       "<tr>\n",
       "  <th>Skew:</th>          <td>-0.687</td>  <th>  Prob(JB):          </th> <td>    0.00</td>\n",
       "</tr>\n",
       "<tr>\n",
       "  <th>Kurtosis:</th>      <td>10.266</td>  <th>  Cond. No.          </th> <td>    546.</td>\n",
       "</tr>\n",
       "</table><br/><br/>Notes:<br/>[1] Standard Errors assume that the covariance matrix of the errors is correctly specified."
      ],
      "text/plain": [
       "<class 'statsmodels.iolib.summary.Summary'>\n",
       "\"\"\"\n",
       "                            OLS Regression Results                            \n",
       "==============================================================================\n",
       "Dep. Variable:                lSalary   R-squared:                       0.459\n",
       "Model:                            OLS   Adj. R-squared:                  0.452\n",
       "Method:                 Least Squares   F-statistic:                     59.56\n",
       "Date:                Thu, 19 Jan 2023   Prob (F-statistic):          6.52e-129\n",
       "Time:                        00:26:49   Log-Likelihood:                 78.951\n",
       "No. Observations:                1068   AIC:                            -125.9\n",
       "Df Residuals:                    1052   BIC:                            -46.33\n",
       "Df Model:                          15                                         \n",
       "Covariance Type:            nonrobust                                         \n",
       "============================================================================================\n",
       "                               coef    std err          t      P>|t|      [0.025      0.975]\n",
       "--------------------------------------------------------------------------------------------\n",
       "Intercept                   11.1849      0.088    127.011      0.000      11.012      11.358\n",
       "Gender                       0.0864      0.021      4.213      0.000       0.046       0.127\n",
       "lExperience                  0.0683      0.014      4.779      0.000       0.040       0.096\n",
       "Vacation_days                0.0102      0.002      5.028      0.000       0.006       0.014\n",
       "Seniority_level_Junior      -0.5721      0.053    -10.785      0.000      -0.676      -0.468\n",
       "Seniority_level_Lead        -0.1085      0.042     -2.592      0.010      -0.191      -0.026\n",
       "Seniority_level_Middle      -0.4245      0.041    -10.281      0.000      -0.506      -0.343\n",
       "Seniority_level_Senior      -0.2563      0.039     -6.582      0.000      -0.333      -0.180\n",
       "Employment_status           -0.1770      0.050     -3.508      0.000      -0.276      -0.078\n",
       "Company_size_large          -0.0788      0.017     -4.726      0.000      -0.111      -0.046\n",
       "Company_size_medium_size    -0.1251      0.023     -5.364      0.000      -0.171      -0.079\n",
       "Company_size_micro          -0.2173      0.038     -5.727      0.000      -0.292      -0.143\n",
       "Company_size_small          -0.1362      0.022     -6.102      0.000      -0.180      -0.092\n",
       "Language_German             -0.0577      0.020     -2.859      0.004      -0.097      -0.018\n",
       "Language_Italian            -0.5569      0.132     -4.209      0.000      -0.817      -0.297\n",
       "Language_Russian            -0.4983      0.072     -6.880      0.000      -0.640      -0.356\n",
       "==============================================================================\n",
       "Omnibus:                      233.643   Durbin-Watson:                   2.150\n",
       "Prob(Omnibus):                  0.000   Jarque-Bera (JB):             2433.221\n",
       "Skew:                          -0.687   Prob(JB):                         0.00\n",
       "Kurtosis:                      10.266   Cond. No.                         546.\n",
       "==============================================================================\n",
       "\n",
       "Notes:\n",
       "[1] Standard Errors assume that the covariance matrix of the errors is correctly specified.\n",
       "\"\"\""
      ]
     },
     "execution_count": 138,
     "metadata": {},
     "output_type": "execute_result"
    }
   ],
   "source": [
    "m4.summary()"
   ]
  },
  {
   "cell_type": "markdown",
   "id": "be032a2e",
   "metadata": {},
   "source": [
    "Condition Number wynosi 546."
   ]
  },
  {
   "cell_type": "code",
   "execution_count": 139,
   "id": "9ff7d278",
   "metadata": {},
   "outputs": [],
   "source": [
    "import pandas as pd"
   ]
  },
  {
   "cell_type": "code",
   "execution_count": 147,
   "id": "1dc83076",
   "metadata": {},
   "outputs": [],
   "source": [
    "def get_vif(exogs, data):\n",
    "    vif_dict, tolerance_dict = {}, {}\n",
    "    for exog in exogs:\n",
    "        not_exog = [i for i in exogs if i != exog]\n",
    "        formula = f\"{exog} ~ {' + '.join(not_exog)}\"\n",
    "\n",
    "        # extract r-squared from the fit\n",
    "        r_squared = smf.ols(formula, data=data).fit().rsquared\n",
    "\n",
    "        # calculate VIF\n",
    "        vif = 1/(1 - r_squared)\n",
    "        vif_dict[exog] = vif\n",
    "\n",
    "        # calculate tolerance\n",
    "        tolerance = 1 - r_squared\n",
    "        tolerance_dict[exog] = tolerance\n",
    "\n",
    "    # return VIF DataFrame\n",
    "    df_vif = pd.DataFrame({'VIF': vif_dict, 'Tolerance': tolerance_dict})\n",
    "\n",
    "    return df_vif"
   ]
  },
  {
   "cell_type": "code",
   "execution_count": 140,
   "id": "88c6daf1",
   "metadata": {},
   "outputs": [
    {
     "data": {
      "text/plain": [
       "Intercept                   11.184895\n",
       "Gender                       0.086378\n",
       "lExperience                  0.068299\n",
       "Vacation_days                0.010222\n",
       "Seniority_level_Junior      -0.572143\n",
       "Seniority_level_Lead        -0.108459\n",
       "Seniority_level_Middle      -0.424509\n",
       "Seniority_level_Senior      -0.256277\n",
       "Employment_status           -0.176996\n",
       "Company_size_large          -0.078785\n",
       "Company_size_medium_size    -0.125106\n",
       "Company_size_micro          -0.217291\n",
       "Company_size_small          -0.136246\n",
       "Language_German             -0.057667\n",
       "Language_Italian            -0.556924\n",
       "Language_Russian            -0.498256\n",
       "dtype: float64"
      ]
     },
     "execution_count": 140,
     "metadata": {},
     "output_type": "execute_result"
    }
   ],
   "source": [
    "m4.params"
   ]
  },
  {
   "cell_type": "code",
   "execution_count": 142,
   "id": "d30546cd",
   "metadata": {},
   "outputs": [],
   "source": [
    "zmienne = ['Gender', 'lExperience', 'Vacation_days', 'Seniority_level_Junior', 'Seniority_level_Lead','Seniority_level_Middle','Seniority_level_Senior','Employment_status','Company_size_large','Company_size_medium_size','Company_size_micro','Company_size_small','Language_German','Language_Italian','Language_Russian']"
   ]
  },
  {
   "cell_type": "code",
   "execution_count": 175,
   "id": "1cdf0532",
   "metadata": {
    "scrolled": false
   },
   "outputs": [
    {
     "data": {
      "text/html": [
       "<div>\n",
       "<style scoped>\n",
       "    .dataframe tbody tr th:only-of-type {\n",
       "        vertical-align: middle;\n",
       "    }\n",
       "\n",
       "    .dataframe tbody tr th {\n",
       "        vertical-align: top;\n",
       "    }\n",
       "\n",
       "    .dataframe thead th {\n",
       "        text-align: right;\n",
       "    }\n",
       "</style>\n",
       "<table border=\"1\" class=\"dataframe\">\n",
       "  <thead>\n",
       "    <tr style=\"text-align: right;\">\n",
       "      <th></th>\n",
       "      <th>VIF</th>\n",
       "      <th>Tolerance</th>\n",
       "    </tr>\n",
       "  </thead>\n",
       "  <tbody>\n",
       "    <tr>\n",
       "      <th>Gender</th>\n",
       "      <td>1.103513</td>\n",
       "      <td>0.906196</td>\n",
       "    </tr>\n",
       "    <tr>\n",
       "      <th>lExperience</th>\n",
       "      <td>1.785069</td>\n",
       "      <td>0.560202</td>\n",
       "    </tr>\n",
       "    <tr>\n",
       "      <th>Vacation_days</th>\n",
       "      <td>1.102794</td>\n",
       "      <td>0.906788</td>\n",
       "    </tr>\n",
       "    <tr>\n",
       "      <th>Seniority_level_Junior</th>\n",
       "      <td>3.157048</td>\n",
       "      <td>0.316752</td>\n",
       "    </tr>\n",
       "    <tr>\n",
       "      <th>Seniority_level_Lead</th>\n",
       "      <td>4.354393</td>\n",
       "      <td>0.229653</td>\n",
       "    </tr>\n",
       "    <tr>\n",
       "      <th>Seniority_level_Middle</th>\n",
       "      <td>7.439528</td>\n",
       "      <td>0.134417</td>\n",
       "    </tr>\n",
       "    <tr>\n",
       "      <th>Seniority_level_Senior</th>\n",
       "      <td>7.867598</td>\n",
       "      <td>0.127104</td>\n",
       "    </tr>\n",
       "    <tr>\n",
       "      <th>Employment_status</th>\n",
       "      <td>1.070032</td>\n",
       "      <td>0.934552</td>\n",
       "    </tr>\n",
       "    <tr>\n",
       "      <th>Company_size_large</th>\n",
       "      <td>1.297188</td>\n",
       "      <td>0.770898</td>\n",
       "    </tr>\n",
       "    <tr>\n",
       "      <th>Company_size_medium_size</th>\n",
       "      <td>1.179311</td>\n",
       "      <td>0.847953</td>\n",
       "    </tr>\n",
       "    <tr>\n",
       "      <th>Company_size_micro</th>\n",
       "      <td>1.158619</td>\n",
       "      <td>0.863096</td>\n",
       "    </tr>\n",
       "    <tr>\n",
       "      <th>Company_size_small</th>\n",
       "      <td>1.246767</td>\n",
       "      <td>0.802075</td>\n",
       "    </tr>\n",
       "    <tr>\n",
       "      <th>Language_German</th>\n",
       "      <td>1.079687</td>\n",
       "      <td>0.926194</td>\n",
       "    </tr>\n",
       "    <tr>\n",
       "      <th>Language_Italian</th>\n",
       "      <td>1.021361</td>\n",
       "      <td>0.979086</td>\n",
       "    </tr>\n",
       "    <tr>\n",
       "      <th>Language_Russian</th>\n",
       "      <td>1.013247</td>\n",
       "      <td>0.986926</td>\n",
       "    </tr>\n",
       "  </tbody>\n",
       "</table>\n",
       "</div>"
      ],
      "text/plain": [
       "                               VIF  Tolerance\n",
       "Gender                    1.103513   0.906196\n",
       "lExperience               1.785069   0.560202\n",
       "Vacation_days             1.102794   0.906788\n",
       "Seniority_level_Junior    3.157048   0.316752\n",
       "Seniority_level_Lead      4.354393   0.229653\n",
       "Seniority_level_Middle    7.439528   0.134417\n",
       "Seniority_level_Senior    7.867598   0.127104\n",
       "Employment_status         1.070032   0.934552\n",
       "Company_size_large        1.297188   0.770898\n",
       "Company_size_medium_size  1.179311   0.847953\n",
       "Company_size_micro        1.158619   0.863096\n",
       "Company_size_small        1.246767   0.802075\n",
       "Language_German           1.079687   0.926194\n",
       "Language_Italian          1.021361   0.979086\n",
       "Language_Russian          1.013247   0.986926"
      ]
     },
     "execution_count": 175,
     "metadata": {},
     "output_type": "execute_result"
    }
   ],
   "source": [
    "get_vif(exogs = zmienne, data = df )"
   ]
  },
  {
   "cell_type": "markdown",
   "id": "1da34b4c",
   "metadata": {},
   "source": [
    "VIF - wskaźnik .. wariancji - jeśli wartość przekracza 10 - zmienna generuje problem wspóliniowości - w naszym modelu nie ma takiego przypadku."
   ]
  }
 ],
 "metadata": {
  "kernelspec": {
   "display_name": "Python 3 (ipykernel)",
   "language": "python",
   "name": "python3"
  },
  "language_info": {
   "codemirror_mode": {
    "name": "ipython",
    "version": 3
   },
   "file_extension": ".py",
   "mimetype": "text/x-python",
   "name": "python",
   "nbconvert_exporter": "python",
   "pygments_lexer": "ipython3",
   "version": "3.9.12"
  }
 },
 "nbformat": 4,
 "nbformat_minor": 5
}
